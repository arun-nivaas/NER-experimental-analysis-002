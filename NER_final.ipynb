{
  "cells": [
    {
      "cell_type": "markdown",
      "id": "30ae8a3b",
      "metadata": {
        "id": "30ae8a3b"
      },
      "source": [
        "## **Import Libraries**"
      ]
    },
    {
      "cell_type": "code",
      "execution_count": 1,
      "id": "bc646768",
      "metadata": {
        "id": "bc646768"
      },
      "outputs": [
        {
          "name": "stderr",
          "output_type": "stream",
          "text": [
            "a:\\Data Science\\Huggingface + Pytorch\\.venv\\Lib\\site-packages\\tqdm\\auto.py:21: TqdmWarning: IProgress not found. Please update jupyter and ipywidgets. See https://ipywidgets.readthedocs.io/en/stable/user_install.html\n",
            "  from .autonotebook import tqdm as notebook_tqdm\n",
            "W0630 09:32:17.801000 17576 Lib\\site-packages\\torch\\distributed\\elastic\\multiprocessing\\redirects.py:29] NOTE: Redirects are currently not supported in Windows or MacOs.\n"
          ]
        }
      ],
      "source": [
        "import numpy as np\n",
        "import pandas as pd\n",
        "import matplotlib.pyplot as plt\n",
        "import seaborn as sns\n",
        "from sklearn.metrics import classification_report\n",
        "from itertools import chain\n",
        "import torch\n",
        "from datasets import DatasetDict, Dataset\n",
        "from transformers import AutoTokenizer,AutoModelForTokenClassification,TrainingArguments,Trainer,pipeline"
      ]
    },
    {
      "cell_type": "code",
      "execution_count": 2,
      "id": "3tp_kCm3JPsr",
      "metadata": {
        "id": "3tp_kCm3JPsr"
      },
      "outputs": [],
      "source": [
        "import os\n",
        "os.environ[\"WANDB_DISABLED\"] = \"true\""
      ]
    },
    {
      "cell_type": "markdown",
      "id": "4fbe208c",
      "metadata": {
        "id": "4fbe208c"
      },
      "source": [
        "## **Set Device**"
      ]
    },
    {
      "cell_type": "code",
      "execution_count": 3,
      "id": "893da2a3",
      "metadata": {
        "colab": {
          "base_uri": "https://localhost:8080/"
        },
        "id": "893da2a3",
        "outputId": "0fcf837c-75c2-4c6e-d0a2-acedd1c96255"
      },
      "outputs": [
        {
          "name": "stdout",
          "output_type": "stream",
          "text": [
            "Using device: cuda\n"
          ]
        }
      ],
      "source": [
        "device = torch.device(\"cuda\" if torch.cuda.is_available() else \"cpu\")\n",
        "print(f\"Using device: {device}\")"
      ]
    },
    {
      "cell_type": "markdown",
      "id": "9345e44c",
      "metadata": {
        "id": "9345e44c"
      },
      "source": [
        "## **Dataset**"
      ]
    },
    {
      "cell_type": "code",
      "execution_count": 4,
      "id": "d4eeeb3f",
      "metadata": {
        "colab": {
          "base_uri": "https://localhost:8080/",
          "height": 330
        },
        "id": "d4eeeb3f",
        "outputId": "7bfcc4b3-3cab-45fe-c04e-ec3118656ad0"
      },
      "outputs": [
        {
          "data": {
            "text/html": [
              "<div>\n",
              "<style scoped>\n",
              "    .dataframe tbody tr th:only-of-type {\n",
              "        vertical-align: middle;\n",
              "    }\n",
              "\n",
              "    .dataframe tbody tr th {\n",
              "        vertical-align: top;\n",
              "    }\n",
              "\n",
              "    .dataframe thead th {\n",
              "        text-align: right;\n",
              "    }\n",
              "</style>\n",
              "<table border=\"1\" class=\"dataframe\">\n",
              "  <thead>\n",
              "    <tr style=\"text-align: right;\">\n",
              "      <th></th>\n",
              "      <th>split</th>\n",
              "      <th>tokens</th>\n",
              "      <th>ner_tags</th>\n",
              "    </tr>\n",
              "  </thead>\n",
              "  <tbody>\n",
              "    <tr>\n",
              "      <th>0</th>\n",
              "      <td>train</td>\n",
              "      <td>[Big, Managers, on, Campus]</td>\n",
              "      <td>[O, O, O, O]</td>\n",
              "    </tr>\n",
              "    <tr>\n",
              "      <th>1</th>\n",
              "      <td>train</td>\n",
              "      <td>[In, recent, years, ,, advanced, education, fo...</td>\n",
              "      <td>[O, B-DATE, I-DATE, O, O, O, O, O, O, O, O, O,...</td>\n",
              "    </tr>\n",
              "    <tr>\n",
              "      <th>2</th>\n",
              "      <td>train</td>\n",
              "      <td>[With, this, trend, ,, suddenly, the, mature, ...</td>\n",
              "      <td>[O, O, O, O, O, O, O, O, O, O, O, O, O, O, O, ...</td>\n",
              "    </tr>\n",
              "    <tr>\n",
              "      <th>3</th>\n",
              "      <td>train</td>\n",
              "      <td>[In, order, to, attract, this, group, of, seas...</td>\n",
              "      <td>[O, O, O, O, O, O, O, O, O, O, O, O, B-MONEY, ...</td>\n",
              "    </tr>\n",
              "    <tr>\n",
              "      <th>4</th>\n",
              "      <td>train</td>\n",
              "      <td>[In, response, ,, each, year, over, 1000, matu...</td>\n",
              "      <td>[O, O, O, O, O, O, B-CARDINAL, O, O, O, O, O, ...</td>\n",
              "    </tr>\n",
              "  </tbody>\n",
              "</table>\n",
              "</div>"
            ],
            "text/plain": [
              "   split                                             tokens  \\\n",
              "0  train                        [Big, Managers, on, Campus]   \n",
              "1  train  [In, recent, years, ,, advanced, education, fo...   \n",
              "2  train  [With, this, trend, ,, suddenly, the, mature, ...   \n",
              "3  train  [In, order, to, attract, this, group, of, seas...   \n",
              "4  train  [In, response, ,, each, year, over, 1000, matu...   \n",
              "\n",
              "                                            ner_tags  \n",
              "0                                       [O, O, O, O]  \n",
              "1  [O, B-DATE, I-DATE, O, O, O, O, O, O, O, O, O,...  \n",
              "2  [O, O, O, O, O, O, O, O, O, O, O, O, O, O, O, ...  \n",
              "3  [O, O, O, O, O, O, O, O, O, O, O, O, B-MONEY, ...  \n",
              "4  [O, O, O, O, O, O, B-CARDINAL, O, O, O, O, O, ...  "
            ]
          },
          "execution_count": 4,
          "metadata": {},
          "output_type": "execute_result"
        }
      ],
      "source": [
        "data = pd.read_parquet(\"hf://datasets/boltuix/conll2025-ner/conll2025_ner.parquet\")\n",
        "data.head()"
      ]
    },
    {
      "cell_type": "markdown",
      "id": "412a7161",
      "metadata": {
        "id": "412a7161"
      },
      "source": [
        "## **Shape of the Data**"
      ]
    },
    {
      "cell_type": "code",
      "execution_count": 5,
      "id": "0508b537",
      "metadata": {
        "colab": {
          "base_uri": "https://localhost:8080/"
        },
        "id": "0508b537",
        "outputId": "56be899b-110d-4e2f-e950-72ba49b84578"
      },
      "outputs": [
        {
          "name": "stdout",
          "output_type": "stream",
          "text": [
            "No.of rows: 143709\n",
            "No.of Columns: 3\n"
          ]
        }
      ],
      "source": [
        "print(f'No.of rows: {data.shape[0]}')\n",
        "print(f'No.of Columns: {data.shape[1]}')"
      ]
    },
    {
      "cell_type": "markdown",
      "id": "5881661b",
      "metadata": {
        "id": "5881661b"
      },
      "source": [
        "## **Dimension of the Data**"
      ]
    },
    {
      "cell_type": "code",
      "execution_count": 6,
      "id": "5f1f3f0c",
      "metadata": {
        "colab": {
          "base_uri": "https://localhost:8080/"
        },
        "id": "5f1f3f0c",
        "outputId": "5886cf0f-4fa1-47b8-dee9-0487b897988e"
      },
      "outputs": [
        {
          "name": "stdout",
          "output_type": "stream",
          "text": [
            "Dimension of the Data: 2\n"
          ]
        }
      ],
      "source": [
        "print(f'Dimension of the Data: {data.ndim}')"
      ]
    },
    {
      "cell_type": "markdown",
      "id": "8d4d755c",
      "metadata": {
        "id": "8d4d755c"
      },
      "source": [
        "## **Information about the Data**"
      ]
    },
    {
      "cell_type": "code",
      "execution_count": 7,
      "id": "935b2cfd",
      "metadata": {
        "colab": {
          "base_uri": "https://localhost:8080/"
        },
        "id": "935b2cfd",
        "outputId": "c74c2f83-4ef9-4184-ed0e-604f2a3a24ed"
      },
      "outputs": [
        {
          "name": "stdout",
          "output_type": "stream",
          "text": [
            "<class 'pandas.core.frame.DataFrame'>\n",
            "RangeIndex: 143709 entries, 0 to 143708\n",
            "Data columns (total 3 columns):\n",
            " #   Column    Non-Null Count   Dtype \n",
            "---  ------    --------------   ----- \n",
            " 0   split     143709 non-null  object\n",
            " 1   tokens    143709 non-null  object\n",
            " 2   ner_tags  143709 non-null  object\n",
            "dtypes: object(3)\n",
            "memory usage: 3.3+ MB\n"
          ]
        }
      ],
      "source": [
        "data.info()"
      ]
    },
    {
      "cell_type": "markdown",
      "id": "8eec0f38",
      "metadata": {
        "id": "8eec0f38"
      },
      "source": [
        "## **Columns List**"
      ]
    },
    {
      "cell_type": "code",
      "execution_count": 8,
      "id": "810c338e",
      "metadata": {
        "colab": {
          "base_uri": "https://localhost:8080/"
        },
        "id": "810c338e",
        "outputId": "cf40e408-3f91-4845-e8b1-e3d00d7fa2c0"
      },
      "outputs": [
        {
          "name": "stdout",
          "output_type": "stream",
          "text": [
            "Columns in the Data: ['split', 'tokens', 'ner_tags']\n"
          ]
        }
      ],
      "source": [
        "print(f'Columns in the Data: {data.columns.tolist()}')"
      ]
    },
    {
      "cell_type": "markdown",
      "id": "3210ab06",
      "metadata": {
        "id": "3210ab06"
      },
      "source": [
        "## **Number of Null Values**"
      ]
    },
    {
      "cell_type": "code",
      "execution_count": 9,
      "id": "a15fd11e",
      "metadata": {
        "colab": {
          "base_uri": "https://localhost:8080/",
          "height": 143
        },
        "id": "a15fd11e",
        "outputId": "cf1d4eaa-bb82-42fe-c431-47e21670f4a5"
      },
      "outputs": [
        {
          "data": {
            "text/html": [
              "<div>\n",
              "<style scoped>\n",
              "    .dataframe tbody tr th:only-of-type {\n",
              "        vertical-align: middle;\n",
              "    }\n",
              "\n",
              "    .dataframe tbody tr th {\n",
              "        vertical-align: top;\n",
              "    }\n",
              "\n",
              "    .dataframe thead th {\n",
              "        text-align: right;\n",
              "    }\n",
              "</style>\n",
              "<table border=\"1\" class=\"dataframe\">\n",
              "  <thead>\n",
              "    <tr style=\"text-align: right;\">\n",
              "      <th></th>\n",
              "      <th>columns</th>\n",
              "      <th>values</th>\n",
              "    </tr>\n",
              "  </thead>\n",
              "  <tbody>\n",
              "    <tr>\n",
              "      <th>0</th>\n",
              "      <td>split</td>\n",
              "      <td>0</td>\n",
              "    </tr>\n",
              "    <tr>\n",
              "      <th>1</th>\n",
              "      <td>tokens</td>\n",
              "      <td>0</td>\n",
              "    </tr>\n",
              "    <tr>\n",
              "      <th>2</th>\n",
              "      <td>ner_tags</td>\n",
              "      <td>0</td>\n",
              "    </tr>\n",
              "  </tbody>\n",
              "</table>\n",
              "</div>"
            ],
            "text/plain": [
              "    columns  values\n",
              "0     split       0\n",
              "1    tokens       0\n",
              "2  ner_tags       0"
            ]
          },
          "execution_count": 9,
          "metadata": {},
          "output_type": "execute_result"
        }
      ],
      "source": [
        "null_val = pd.DataFrame(data.isnull().sum()).reset_index()\n",
        "null_val.columns = ['columns', 'values']\n",
        "null_val"
      ]
    },
    {
      "cell_type": "markdown",
      "id": "6797065a",
      "metadata": {
        "id": "6797065a"
      },
      "source": [
        "## **Number of Unique values**"
      ]
    },
    {
      "cell_type": "code",
      "execution_count": 10,
      "id": "ab4394db",
      "metadata": {},
      "outputs": [],
      "source": [
        "data[\"tokens\"] = data[\"tokens\"].apply(tuple)\n",
        "data[\"ner_tags\"] = data[\"ner_tags\"].apply(tuple)"
      ]
    },
    {
      "cell_type": "code",
      "execution_count": 11,
      "id": "6bcf965f",
      "metadata": {
        "colab": {
          "base_uri": "https://localhost:8080/",
          "height": 143
        },
        "id": "6bcf965f",
        "outputId": "23b66a18-f61c-4fe0-fbf1-08c3beb52d7a"
      },
      "outputs": [
        {
          "data": {
            "text/html": [
              "<div>\n",
              "<style scoped>\n",
              "    .dataframe tbody tr th:only-of-type {\n",
              "        vertical-align: middle;\n",
              "    }\n",
              "\n",
              "    .dataframe tbody tr th {\n",
              "        vertical-align: top;\n",
              "    }\n",
              "\n",
              "    .dataframe thead th {\n",
              "        text-align: right;\n",
              "    }\n",
              "</style>\n",
              "<table border=\"1\" class=\"dataframe\">\n",
              "  <thead>\n",
              "    <tr style=\"text-align: right;\">\n",
              "      <th></th>\n",
              "      <th>columns</th>\n",
              "      <th>unique_values</th>\n",
              "    </tr>\n",
              "  </thead>\n",
              "  <tbody>\n",
              "    <tr>\n",
              "      <th>0</th>\n",
              "      <td>split</td>\n",
              "      <td>3</td>\n",
              "    </tr>\n",
              "    <tr>\n",
              "      <th>1</th>\n",
              "      <td>tokens</td>\n",
              "      <td>135548</td>\n",
              "    </tr>\n",
              "    <tr>\n",
              "      <th>2</th>\n",
              "      <td>ner_tags</td>\n",
              "      <td>48057</td>\n",
              "    </tr>\n",
              "  </tbody>\n",
              "</table>\n",
              "</div>"
            ],
            "text/plain": [
              "    columns  unique_values\n",
              "0     split              3\n",
              "1    tokens         135548\n",
              "2  ner_tags          48057"
            ]
          },
          "execution_count": 11,
          "metadata": {},
          "output_type": "execute_result"
        }
      ],
      "source": [
        "unique_values = data.nunique().reset_index()\n",
        "unique_values.columns = ['columns', 'unique_values']\n",
        "unique_values"
      ]
    },
    {
      "cell_type": "markdown",
      "id": "35655d23",
      "metadata": {
        "id": "35655d23"
      },
      "source": [
        "## **Description about the Data**"
      ]
    },
    {
      "cell_type": "code",
      "execution_count": 12,
      "id": "5d54ce9c",
      "metadata": {
        "colab": {
          "base_uri": "https://localhost:8080/",
          "height": 143
        },
        "id": "5d54ce9c",
        "outputId": "a22bea08-dd27-4808-f815-e28ba9ca2324"
      },
      "outputs": [
        {
          "data": {
            "text/html": [
              "<div>\n",
              "<style scoped>\n",
              "    .dataframe tbody tr th:only-of-type {\n",
              "        vertical-align: middle;\n",
              "    }\n",
              "\n",
              "    .dataframe tbody tr th {\n",
              "        vertical-align: top;\n",
              "    }\n",
              "\n",
              "    .dataframe thead th {\n",
              "        text-align: right;\n",
              "    }\n",
              "</style>\n",
              "<table border=\"1\" class=\"dataframe\">\n",
              "  <thead>\n",
              "    <tr style=\"text-align: right;\">\n",
              "      <th></th>\n",
              "      <th>count</th>\n",
              "      <th>unique</th>\n",
              "      <th>top</th>\n",
              "      <th>freq</th>\n",
              "    </tr>\n",
              "  </thead>\n",
              "  <tbody>\n",
              "    <tr>\n",
              "      <th>split</th>\n",
              "      <td>143709</td>\n",
              "      <td>3</td>\n",
              "      <td>train</td>\n",
              "      <td>115812</td>\n",
              "    </tr>\n",
              "    <tr>\n",
              "      <th>tokens</th>\n",
              "      <td>143709</td>\n",
              "      <td>135548</td>\n",
              "      <td>(yeah,)</td>\n",
              "      <td>751</td>\n",
              "    </tr>\n",
              "    <tr>\n",
              "      <th>ner_tags</th>\n",
              "      <td>143709</td>\n",
              "      <td>48057</td>\n",
              "      <td>(O, O)</td>\n",
              "      <td>4365</td>\n",
              "    </tr>\n",
              "  </tbody>\n",
              "</table>\n",
              "</div>"
            ],
            "text/plain": [
              "           count  unique      top    freq\n",
              "split     143709       3    train  115812\n",
              "tokens    143709  135548  (yeah,)     751\n",
              "ner_tags  143709   48057   (O, O)    4365"
            ]
          },
          "execution_count": 12,
          "metadata": {},
          "output_type": "execute_result"
        }
      ],
      "source": [
        "data.describe(include='all').transpose()"
      ]
    },
    {
      "cell_type": "markdown",
      "id": "680e3b88",
      "metadata": {
        "id": "680e3b88"
      },
      "source": [
        "## **Data Distribution**"
      ]
    },
    {
      "cell_type": "code",
      "execution_count": 13,
      "id": "ff9fe379",
      "metadata": {
        "colab": {
          "base_uri": "https://localhost:8080/",
          "height": 487
        },
        "id": "ff9fe379",
        "outputId": "c9b1a807-bf1f-46e3-bade-f49fb1e37693"
      },
      "outputs": [
        {
          "data": {
            "image/png": "[encoded data removed]",
            "text/plain": [
              "<Figure size 1200x500 with 1 Axes>"
            ]
          },
          "metadata": {},
          "output_type": "display_data"
        }
      ],
      "source": [
        "plt.figure(figsize=(12, 5))\n",
        "sns.countplot(data=data, x ='split', order=data['split'].value_counts().index,hue ='split',palette=\"magma\")\n",
        "plt.title('Distribution of Data Splits')\n",
        "plt.xlabel('Split')\n",
        "plt.ylabel('Count')\n",
        "plt.show()"
      ]
    },
    {
      "cell_type": "markdown",
      "id": "1af0f48a",
      "metadata": {
        "id": "1af0f48a"
      },
      "source": [
        "## **Tag Distribution**"
      ]
    },
    {
      "cell_type": "code",
      "execution_count": 14,
      "id": "de37a971",
      "metadata": {
        "colab": {
          "base_uri": "https://localhost:8080/",
          "height": 476
        },
        "id": "de37a971",
        "outputId": "07df5e0c-29f0-413c-c48b-4a82b92d8991"
      },
      "outputs": [
        {
          "data": {
            "image/png": "[encoded data removed]",
            "text/plain": [
              "<Figure size 1200x500 with 1 Axes>"
            ]
          },
          "metadata": {},
          "output_type": "display_data"
        }
      ],
      "source": [
        "tags_long = data.explode('ner_tags')\n",
        "\n",
        "plt.figure(figsize=(12, 5))\n",
        "sns.countplot(data=tags_long,x='ner_tags',order=tags_long['ner_tags'].value_counts().index,hue = \"ner_tags\",palette=\"magma\")\n",
        "plt.xticks(rotation=90, ha='right')\n",
        "plt.title('NER tag frequencies')\n",
        "plt.tight_layout()\n",
        "plt.show()"
      ]
    },
    {
      "cell_type": "code",
      "execution_count": 15,
      "id": "3CVc8EUA_L68",
      "metadata": {
        "colab": {
          "base_uri": "https://localhost:8080/",
          "height": 206
        },
        "id": "3CVc8EUA_L68",
        "outputId": "3b785202-3562-420b-8d57-f013a09dc5f0"
      },
      "outputs": [
        {
          "data": {
            "text/html": [
              "<div>\n",
              "<style scoped>\n",
              "    .dataframe tbody tr th:only-of-type {\n",
              "        vertical-align: middle;\n",
              "    }\n",
              "\n",
              "    .dataframe tbody tr th {\n",
              "        vertical-align: top;\n",
              "    }\n",
              "\n",
              "    .dataframe thead th {\n",
              "        text-align: right;\n",
              "    }\n",
              "</style>\n",
              "<table border=\"1\" class=\"dataframe\">\n",
              "  <thead>\n",
              "    <tr style=\"text-align: right;\">\n",
              "      <th></th>\n",
              "      <th>ner_tags</th>\n",
              "      <th>count</th>\n",
              "    </tr>\n",
              "  </thead>\n",
              "  <tbody>\n",
              "    <tr>\n",
              "      <th>0</th>\n",
              "      <td>O</td>\n",
              "      <td>2435208</td>\n",
              "    </tr>\n",
              "    <tr>\n",
              "      <th>1</th>\n",
              "      <td>I-ORG</td>\n",
              "      <td>40660</td>\n",
              "    </tr>\n",
              "    <tr>\n",
              "      <th>2</th>\n",
              "      <td>B-ORG</td>\n",
              "      <td>29963</td>\n",
              "    </tr>\n",
              "    <tr>\n",
              "      <th>3</th>\n",
              "      <td>B-GPE</td>\n",
              "      <td>28133</td>\n",
              "    </tr>\n",
              "    <tr>\n",
              "      <th>4</th>\n",
              "      <td>I-DATE</td>\n",
              "      <td>28088</td>\n",
              "    </tr>\n",
              "  </tbody>\n",
              "</table>\n",
              "</div>"
            ],
            "text/plain": [
              "  ner_tags    count\n",
              "0        O  2435208\n",
              "1    I-ORG    40660\n",
              "2    B-ORG    29963\n",
              "3    B-GPE    28133\n",
              "4   I-DATE    28088"
            ]
          },
          "execution_count": 15,
          "metadata": {},
          "output_type": "execute_result"
        }
      ],
      "source": [
        "pro = tags_long[\"ner_tags\"].value_counts().reset_index()\n",
        "pro.head()"
      ]
    },
    {
      "cell_type": "markdown",
      "id": "63b8b636",
      "metadata": {
        "id": "63b8b636"
      },
      "source": [
        "## **Tag Distribution without O**"
      ]
    },
    {
      "cell_type": "code",
      "execution_count": 16,
      "id": "cc8d9288",
      "metadata": {
        "colab": {
          "base_uri": "https://localhost:8080/",
          "height": 476
        },
        "id": "cc8d9288",
        "outputId": "a7c79074-6b76-492f-e5e8-a19de1c8811f"
      },
      "outputs": [
        {
          "data": {
            "image/png": "[encoded data removed]",
            "text/plain": [
              "<Figure size 1200x500 with 1 Axes>"
            ]
          },
          "metadata": {},
          "output_type": "display_data"
        }
      ],
      "source": [
        "order = [tag for tag in tags_long['ner_tags'].unique() if tag != \"O\"]\n",
        "\n",
        "plt.figure(figsize=(12, 5))\n",
        "sns.countplot(data=tags_long[tags_long['ner_tags'] != \"O\"], x ='ner_tags', order = order, hue=\"ner_tags\", palette=\"magma\")\n",
        "plt.xticks(rotation=90, ha='right')\n",
        "plt.title('NER tag frequencies (without O)')\n",
        "plt.tight_layout()\n",
        "plt.show()"
      ]
    },
    {
      "cell_type": "code",
      "execution_count": 17,
      "id": "c57f81c2",
      "metadata": {
        "id": "c57f81c2"
      },
      "outputs": [],
      "source": [
        "data['tokens'] = data['tokens'].apply(list)\n",
        "data['ner_tags'] = data['ner_tags'].apply(list)"
      ]
    },
    {
      "cell_type": "code",
      "execution_count": 18,
      "id": "c9871036",
      "metadata": {
        "colab": {
          "base_uri": "https://localhost:8080/",
          "height": 206
        },
        "id": "c9871036",
        "outputId": "00d188d6-669e-42f8-c178-9d113cd8f7f9"
      },
      "outputs": [
        {
          "data": {
            "text/html": [
              "<div>\n",
              "<style scoped>\n",
              "    .dataframe tbody tr th:only-of-type {\n",
              "        vertical-align: middle;\n",
              "    }\n",
              "\n",
              "    .dataframe tbody tr th {\n",
              "        vertical-align: top;\n",
              "    }\n",
              "\n",
              "    .dataframe thead th {\n",
              "        text-align: right;\n",
              "    }\n",
              "</style>\n",
              "<table border=\"1\" class=\"dataframe\">\n",
              "  <thead>\n",
              "    <tr style=\"text-align: right;\">\n",
              "      <th></th>\n",
              "      <th>split</th>\n",
              "      <th>tokens</th>\n",
              "      <th>ner_tags</th>\n",
              "    </tr>\n",
              "  </thead>\n",
              "  <tbody>\n",
              "    <tr>\n",
              "      <th>0</th>\n",
              "      <td>train</td>\n",
              "      <td>[Big, Managers, on, Campus]</td>\n",
              "      <td>[O, O, O, O]</td>\n",
              "    </tr>\n",
              "    <tr>\n",
              "      <th>1</th>\n",
              "      <td>train</td>\n",
              "      <td>[In, recent, years, ,, advanced, education, fo...</td>\n",
              "      <td>[O, B-DATE, I-DATE, O, O, O, O, O, O, O, O, O,...</td>\n",
              "    </tr>\n",
              "    <tr>\n",
              "      <th>2</th>\n",
              "      <td>train</td>\n",
              "      <td>[With, this, trend, ,, suddenly, the, mature, ...</td>\n",
              "      <td>[O, O, O, O, O, O, O, O, O, O, O, O, O, O, O, ...</td>\n",
              "    </tr>\n",
              "    <tr>\n",
              "      <th>3</th>\n",
              "      <td>train</td>\n",
              "      <td>[In, order, to, attract, this, group, of, seas...</td>\n",
              "      <td>[O, O, O, O, O, O, O, O, O, O, O, O, B-MONEY, ...</td>\n",
              "    </tr>\n",
              "    <tr>\n",
              "      <th>4</th>\n",
              "      <td>train</td>\n",
              "      <td>[In, response, ,, each, year, over, 1000, matu...</td>\n",
              "      <td>[O, O, O, O, O, O, B-CARDINAL, O, O, O, O, O, ...</td>\n",
              "    </tr>\n",
              "  </tbody>\n",
              "</table>\n",
              "</div>"
            ],
            "text/plain": [
              "   split                                             tokens  \\\n",
              "0  train                        [Big, Managers, on, Campus]   \n",
              "1  train  [In, recent, years, ,, advanced, education, fo...   \n",
              "2  train  [With, this, trend, ,, suddenly, the, mature, ...   \n",
              "3  train  [In, order, to, attract, this, group, of, seas...   \n",
              "4  train  [In, response, ,, each, year, over, 1000, matu...   \n",
              "\n",
              "                                            ner_tags  \n",
              "0                                       [O, O, O, O]  \n",
              "1  [O, B-DATE, I-DATE, O, O, O, O, O, O, O, O, O,...  \n",
              "2  [O, O, O, O, O, O, O, O, O, O, O, O, O, O, O, ...  \n",
              "3  [O, O, O, O, O, O, O, O, O, O, O, O, B-MONEY, ...  \n",
              "4  [O, O, O, O, O, O, B-CARDINAL, O, O, O, O, O, ...  "
            ]
          },
          "execution_count": 18,
          "metadata": {},
          "output_type": "execute_result"
        }
      ],
      "source": [
        "data.head()"
      ]
    },
    {
      "cell_type": "code",
      "execution_count": 19,
      "id": "0eacd270",
      "metadata": {
        "colab": {
          "base_uri": "https://localhost:8080/"
        },
        "id": "0eacd270",
        "outputId": "d080b15a-43f1-47e8-d91d-8b7d91d47e7f"
      },
      "outputs": [
        {
          "name": "stdout",
          "output_type": "stream",
          "text": [
            "Unique NER tags: ['B-CARDINAL', 'B-DATE', 'B-EVENT', 'B-FAC', 'B-GPE', 'B-LANGUAGE', 'B-LAW', 'B-LOC', 'B-MONEY', 'B-NORP', 'B-ORDINAL', 'B-ORG', 'B-PERCENT', 'B-PERSON', 'B-PRODUCT', 'B-QUANTITY', 'B-TIME', 'B-WORK_OF_ART', 'I-CARDINAL', 'I-DATE', 'I-EVENT', 'I-FAC', 'I-GPE', 'I-LANGUAGE', 'I-LAW', 'I-LOC', 'I-MONEY', 'I-NORP', 'I-ORDINAL', 'I-ORG', 'I-PERCENT', 'I-PERSON', 'I-PRODUCT', 'I-QUANTITY', 'I-TIME', 'I-WORK_OF_ART', 'O']\n",
            "Number of unique NER tags: 37\n"
          ]
        }
      ],
      "source": [
        "unique_tags = sorted(set(tag for tags in data['ner_tags'] for tag in tags))\n",
        "num_unique_tags = len(unique_tags)\n",
        "\n",
        "print(f'Unique NER tags: {unique_tags}')\n",
        "print(f'Number of unique NER tags: {num_unique_tags}')"
      ]
    },
    {
      "cell_type": "code",
      "execution_count": 20,
      "id": "9b6d4a97",
      "metadata": {
        "colab": {
          "base_uri": "https://localhost:8080/"
        },
        "id": "9b6d4a97",
        "outputId": "45639505-60c7-4ff7-d5f9-27a2caf72b92"
      },
      "outputs": [
        {
          "name": "stdout",
          "output_type": "stream",
          "text": [
            "Tag to Index Mapping: {'B-CARDINAL': 0, 'B-DATE': 1, 'B-EVENT': 2, 'B-FAC': 3, 'B-GPE': 4, 'B-LANGUAGE': 5, 'B-LAW': 6, 'B-LOC': 7, 'B-MONEY': 8, 'B-NORP': 9, 'B-ORDINAL': 10, 'B-ORG': 11, 'B-PERCENT': 12, 'B-PERSON': 13, 'B-PRODUCT': 14, 'B-QUANTITY': 15, 'B-TIME': 16, 'B-WORK_OF_ART': 17, 'I-CARDINAL': 18, 'I-DATE': 19, 'I-EVENT': 20, 'I-FAC': 21, 'I-GPE': 22, 'I-LANGUAGE': 23, 'I-LAW': 24, 'I-LOC': 25, 'I-MONEY': 26, 'I-NORP': 27, 'I-ORDINAL': 28, 'I-ORG': 29, 'I-PERCENT': 30, 'I-PERSON': 31, 'I-PRODUCT': 32, 'I-QUANTITY': 33, 'I-TIME': 34, 'I-WORK_OF_ART': 35, 'O': 36}\n",
            "Index to Tag Mapping: {0: 'B-CARDINAL', 1: 'B-DATE', 2: 'B-EVENT', 3: 'B-FAC', 4: 'B-GPE', 5: 'B-LANGUAGE', 6: 'B-LAW', 7: 'B-LOC', 8: 'B-MONEY', 9: 'B-NORP', 10: 'B-ORDINAL', 11: 'B-ORG', 12: 'B-PERCENT', 13: 'B-PERSON', 14: 'B-PRODUCT', 15: 'B-QUANTITY', 16: 'B-TIME', 17: 'B-WORK_OF_ART', 18: 'I-CARDINAL', 19: 'I-DATE', 20: 'I-EVENT', 21: 'I-FAC', 22: 'I-GPE', 23: 'I-LANGUAGE', 24: 'I-LAW', 25: 'I-LOC', 26: 'I-MONEY', 27: 'I-NORP', 28: 'I-ORDINAL', 29: 'I-ORG', 30: 'I-PERCENT', 31: 'I-PERSON', 32: 'I-PRODUCT', 33: 'I-QUANTITY', 34: 'I-TIME', 35: 'I-WORK_OF_ART', 36: 'O'}\n"
          ]
        }
      ],
      "source": [
        "tag2idx = {tag:idx for idx, tag in enumerate(unique_tags)}\n",
        "idx2tag = {idx:tag for tag,idx in tag2idx.items()}\n",
        "\n",
        "print(f'Tag to Index Mapping: {tag2idx}')\n",
        "print(f'Index to Tag Mapping: {idx2tag}')"
      ]
    },
    {
      "cell_type": "code",
      "execution_count": 21,
      "id": "4aaaa28c",
      "metadata": {
        "id": "4aaaa28c"
      },
      "outputs": [],
      "source": [
        "data['ner_tags'] = data['ner_tags'].apply(lambda tags: [tag2idx[tag] for tag in tags])\n"
      ]
    },
    {
      "cell_type": "code",
      "execution_count": 22,
      "id": "702e4810",
      "metadata": {
        "colab": {
          "base_uri": "https://localhost:8080/",
          "height": 206
        },
        "id": "702e4810",
        "outputId": "eea80655-487d-4ede-d030-320ed8874669"
      },
      "outputs": [
        {
          "data": {
            "text/html": [
              "<div>\n",
              "<style scoped>\n",
              "    .dataframe tbody tr th:only-of-type {\n",
              "        vertical-align: middle;\n",
              "    }\n",
              "\n",
              "    .dataframe tbody tr th {\n",
              "        vertical-align: top;\n",
              "    }\n",
              "\n",
              "    .dataframe thead th {\n",
              "        text-align: right;\n",
              "    }\n",
              "</style>\n",
              "<table border=\"1\" class=\"dataframe\">\n",
              "  <thead>\n",
              "    <tr style=\"text-align: right;\">\n",
              "      <th></th>\n",
              "      <th>split</th>\n",
              "      <th>tokens</th>\n",
              "      <th>ner_tags</th>\n",
              "    </tr>\n",
              "  </thead>\n",
              "  <tbody>\n",
              "    <tr>\n",
              "      <th>0</th>\n",
              "      <td>train</td>\n",
              "      <td>[Big, Managers, on, Campus]</td>\n",
              "      <td>[36, 36, 36, 36]</td>\n",
              "    </tr>\n",
              "    <tr>\n",
              "      <th>1</th>\n",
              "      <td>train</td>\n",
              "      <td>[In, recent, years, ,, advanced, education, fo...</td>\n",
              "      <td>[36, 1, 19, 36, 36, 36, 36, 36, 36, 36, 36, 36...</td>\n",
              "    </tr>\n",
              "    <tr>\n",
              "      <th>2</th>\n",
              "      <td>train</td>\n",
              "      <td>[With, this, trend, ,, suddenly, the, mature, ...</td>\n",
              "      <td>[36, 36, 36, 36, 36, 36, 36, 36, 36, 36, 36, 3...</td>\n",
              "    </tr>\n",
              "    <tr>\n",
              "      <th>3</th>\n",
              "      <td>train</td>\n",
              "      <td>[In, order, to, attract, this, group, of, seas...</td>\n",
              "      <td>[36, 36, 36, 36, 36, 36, 36, 36, 36, 36, 36, 3...</td>\n",
              "    </tr>\n",
              "    <tr>\n",
              "      <th>4</th>\n",
              "      <td>train</td>\n",
              "      <td>[In, response, ,, each, year, over, 1000, matu...</td>\n",
              "      <td>[36, 36, 36, 36, 36, 36, 0, 36, 36, 36, 36, 36...</td>\n",
              "    </tr>\n",
              "  </tbody>\n",
              "</table>\n",
              "</div>"
            ],
            "text/plain": [
              "   split                                             tokens  \\\n",
              "0  train                        [Big, Managers, on, Campus]   \n",
              "1  train  [In, recent, years, ,, advanced, education, fo...   \n",
              "2  train  [With, this, trend, ,, suddenly, the, mature, ...   \n",
              "3  train  [In, order, to, attract, this, group, of, seas...   \n",
              "4  train  [In, response, ,, each, year, over, 1000, matu...   \n",
              "\n",
              "                                            ner_tags  \n",
              "0                                   [36, 36, 36, 36]  \n",
              "1  [36, 1, 19, 36, 36, 36, 36, 36, 36, 36, 36, 36...  \n",
              "2  [36, 36, 36, 36, 36, 36, 36, 36, 36, 36, 36, 3...  \n",
              "3  [36, 36, 36, 36, 36, 36, 36, 36, 36, 36, 36, 3...  \n",
              "4  [36, 36, 36, 36, 36, 36, 0, 36, 36, 36, 36, 36...  "
            ]
          },
          "execution_count": 22,
          "metadata": {},
          "output_type": "execute_result"
        }
      ],
      "source": [
        "data.head()"
      ]
    },
    {
      "cell_type": "markdown",
      "id": "89ab23ac",
      "metadata": {
        "id": "89ab23ac"
      },
      "source": [
        "## **Huggingface Dataset**"
      ]
    },
    {
      "cell_type": "code",
      "execution_count": 23,
      "id": "1db1ee25",
      "metadata": {
        "colab": {
          "base_uri": "https://localhost:8080/"
        },
        "id": "1db1ee25",
        "outputId": "13ea7802-ae62-48de-85e2-d3fc26e065a2"
      },
      "outputs": [
        {
          "name": "stdout",
          "output_type": "stream",
          "text": [
            "Train Dataset Shape: (115812, 3)\n",
            "Validation Dataset Shape: (15680, 3)\n",
            "Test Dataset Shape: (12217, 3)\n"
          ]
        }
      ],
      "source": [
        "train_dataset = data[data[\"split\"] == \"train\"]\n",
        "val_dataset = data[data[\"split\"] == \"validation\"]\n",
        "test_dataset = data[data[\"split\"] == \"test\"]\n",
        "\n",
        "print(f'Train Dataset Shape: {train_dataset.shape}')\n",
        "print(f'Validation Dataset Shape: {val_dataset.shape}')\n",
        "print(f'Test Dataset Shape: {test_dataset.shape}')"
      ]
    },
    {
      "cell_type": "code",
      "execution_count": 24,
      "id": "0a3607cd",
      "metadata": {
        "id": "0a3607cd"
      },
      "outputs": [],
      "source": [
        "train_ds = Dataset.from_pandas(train_dataset)\n",
        "val_ds = Dataset.from_pandas(val_dataset)\n",
        "test_ds = Dataset.from_pandas(test_dataset)"
      ]
    },
    {
      "cell_type": "code",
      "execution_count": 25,
      "id": "54623b2b",
      "metadata": {
        "id": "54623b2b"
      },
      "outputs": [],
      "source": [
        "train_ds = train_ds.remove_columns([\"__index_level_0__\"])\n",
        "val_ds = val_ds.remove_columns([\"__index_level_0__\"])\n",
        "test_ds = test_ds.remove_columns([\"__index_level_0__\"])"
      ]
    },
    {
      "cell_type": "code",
      "execution_count": 26,
      "id": "e27de862",
      "metadata": {
        "id": "e27de862"
      },
      "outputs": [],
      "source": [
        "dataset = DatasetDict({\n",
        "    'train': train_ds,\n",
        "    'validation': val_ds,\n",
        "    'test': test_ds\n",
        "})"
      ]
    },
    {
      "cell_type": "code",
      "execution_count": 27,
      "id": "1d3204a5",
      "metadata": {
        "colab": {
          "base_uri": "https://localhost:8080/"
        },
        "id": "1d3204a5",
        "outputId": "6788adb3-6292-4aca-85ee-ee36fb183969"
      },
      "outputs": [
        {
          "name": "stdout",
          "output_type": "stream",
          "text": [
            "DatasetDict({\n",
            "    train: Dataset({\n",
            "        features: ['split', 'tokens', 'ner_tags'],\n",
            "        num_rows: 115812\n",
            "    })\n",
            "    validation: Dataset({\n",
            "        features: ['split', 'tokens', 'ner_tags'],\n",
            "        num_rows: 15680\n",
            "    })\n",
            "    test: Dataset({\n",
            "        features: ['split', 'tokens', 'ner_tags'],\n",
            "        num_rows: 12217\n",
            "    })\n",
            "})\n"
          ]
        }
      ],
      "source": [
        "print(dataset)"
      ]
    },
    {
      "cell_type": "code",
      "execution_count": 28,
      "id": "77ada7db",
      "metadata": {
        "colab": {
          "base_uri": "https://localhost:8080/",
          "height": 241,
          "referenced_widgets": [
            "55ab4462b0f0487c80f6aa565ac4e94a",
            "7ae196bc221d4dbe980b6e4aa4fc0e87",
            "08545186fd424bbca48bc285cefab97c",
            "10d53406b4d64a2b9ab76ac4552255ef",
            "0f18446d66204f2d956b4f9a89a3ff02",
            "466b2d1999c64bfeb1e6b1aecc4f1d78",
            "b40220685ca24e129d0f14a1df816566",
            "5c3725101622415f9ffa8d5d12f18f01",
            "590967be71c149c793b093395d75b08a",
            "a9fdb201b143457e8f2c3bb97ac34de2",
            "b1f1f4642f964d57af911d527f64c982",
            "13ba80a979814838bb0b0a816416dd5f",
            "b02ea5a512c04040a44649cec22169aa",
            "6d9d51d7d2794c7aafa669a2f1a20434",
            "8a71e82e4f92491e893d19350b14863c",
            "53131bb61da8422eaca3046865354b69",
            "1c57d85357294a0f995c669ef34249c8",
            "f4a23820d27a428b9976c8942d6111bf",
            "2945249997e94a57a34394011743eeda",
            "617fa92766e54fb9967e59ece4f34f44",
            "dc28a862321b41a0b58c4f21e3f39de4",
            "7771530469d4439095fd4338a625dd52",
            "8cd24577c60449b9985ed142fac0b1be",
            "22821ce9d0104e919857ce816cfee688",
            "2a5f480dea404427b4b6faeb286457ee",
            "60e7056a242344a796674f98ae48c7dc",
            "d2df374533414c9aa97c908e901b8901",
            "4d12e8edb704422bae2e94edaef69248",
            "5114227991954648a05f455492679c6c",
            "641a0a267de24e2e9a729acd06887c6b",
            "d38a18219a424a4abf1beebd05ff99fa",
            "c80e596982184240bcc5de4b33814701",
            "879120876fcd4f2f9652b6e311b01841",
            "ce687cf9ed3e434390669514254cfba0",
            "d2e5ace97a5c4e2ba93e45bb01278d3c",
            "46ae2614913b44668fd6acf68e7196c9",
            "cf886baa12304275a45a179328d43d71",
            "927215a25fba44548a0d0b1187ec4fc4",
            "6091d957417c4148b8662fa0e39a05b1",
            "e89221e49b6445cebbe909c9c9681b60",
            "cf159a266bfa483ea24917b59eec5c53",
            "e4c87c63f22f41c09649f2b08fafded2",
            "d1f1d1aa17484bc988fe39a3635fe6eb",
            "b145d26ac5174881842a69ba534bf194",
            "58c5cc168aa24e4391780d54c6d480b3",
            "b703a414c8f14d99a1b2a355a833daa1",
            "139895d6fc204937887f5ff6307c0668",
            "309290f7f6d04aebb83d4ef06e4f22c5",
            "2d03139797d145dbbfbac80c7edf354c",
            "aae4c6a83f1042bcaf4e84a8f083c501",
            "4d86fb49644a47f8a7d44f9b31f1a401",
            "67dc63bf0bb14969a9a9d465e88f3adc",
            "ddf182c2c1d7427db3ddc1d5745de02c",
            "8ed18f8176b44f31a4be5f2fba0ebf84",
            "cecb73e020114e17a4ac827aec352ad4",
            "6f81eda65a3c485a8c7df60b9be08adf",
            "16666c7e864c4b11bb837acd8b128da9",
            "814d1d3a77824acaa966f50954c0bd28",
            "5b63aece880e4be7aba7c2ac7c2182f8",
            "2b595d326f0d4472b585dca379e13bd7",
            "754bcbfbf71e41db9f666718aaf31b60",
            "f19dfb69392a4a959b3b38c148afc759",
            "e67519f9bd9d44d795d4626b16f1978c",
            "cc8e76f0e0124459b7d56bd702edbbc6",
            "cb3c4d9fc6e142e9b3e2e07560f15599",
            "0623b21f4d9e4829a9b77ec8ad5c8ea2",
            "06234cc3b5554360a03dfc05e6ffbf45",
            "65096cc2dc324ed494f45d6428a69157",
            "5d4cbffce0ed48c0baa53019c841ad4b",
            "9cdc3a1b788943a68f6ce0290b716f39",
            "0a90d9e7bddc418fba5bfe1b4d424e8d",
            "23f2c3d6b3b24ee3a17c060d4ff32118",
            "cf7d97ce25214c12808db6d9d466ee11",
            "b2a237a084164a839e9fcf9bb4b455d0",
            "fac8acd418264ec982134c7ba96d60a6",
            "8d70b4140b2c4472a6b67a707bc8a7db",
            "8eaa5b59618f4226a2f92b7714c37a18"
          ]
        },
        "id": "77ada7db",
        "outputId": "8c059938-f903-406b-c89f-aea543175066"
      },
      "outputs": [
        {
          "name": "stderr",
          "output_type": "stream",
          "text": [
            "a:\\Data Science\\Huggingface + Pytorch\\.venv\\Lib\\site-packages\\huggingface_hub\\file_download.py:943: FutureWarning: `resume_download` is deprecated and will be removed in version 1.0.0. Downloads always resume when possible. If you want to force a new download, use `force_download=True`.\n",
            "  warnings.warn(\n",
            "Map: 100%|██████████| 115812/115812 [00:49<00:00, 2343.65 examples/s]\n",
            "Map: 100%|██████████| 15680/15680 [00:06<00:00, 2460.34 examples/s]\n",
            "Map: 100%|██████████| 12217/12217 [00:04<00:00, 2554.73 examples/s]\n"
          ]
        }
      ],
      "source": [
        "tokenizer = AutoTokenizer.from_pretrained(\"bert-base-cased\")\n",
        "\n",
        "def tokenize_and_align_labels(data):\n",
        "    tokenized_inputs = tokenizer(data[\"tokens\"], truncation=True, is_split_into_words=True,max_length=128, padding=\"max_length\")\n",
        "\n",
        "    labels = []\n",
        "    word_ids = tokenized_inputs.word_ids()  # Word ID per sub-token\n",
        "\n",
        "    previous_word_idx = None\n",
        "    for word_idx in word_ids:\n",
        "        if word_idx is None:\n",
        "            labels.append(-100)  # Special tokens\n",
        "        elif word_idx != previous_word_idx:\n",
        "            labels.append(data[\"ner_tags\"][word_idx])  # First token of word\n",
        "        else:\n",
        "            labels.append(-100)  # Subsequent tokens\n",
        "        previous_word_idx = word_idx\n",
        "\n",
        "    tokenized_inputs[\"labels\"] = labels\n",
        "    return tokenized_inputs\n",
        "\n",
        "tokenized_dataset = dataset.map(tokenize_and_align_labels)\n"
      ]
    },
    {
      "cell_type": "code",
      "execution_count": 29,
      "id": "c8df1785",
      "metadata": {
        "colab": {
          "base_uri": "https://localhost:8080/",
          "height": 104,
          "referenced_widgets": [
            "bdf46f13c6554a138b6e53e53de5557c",
            "85ad75441e5f4416b135f038fd7896ad",
            "975e868fcb4746f0a04048c5707a7482",
            "2ce26db841f446f6b569cc93716b18e8",
            "65dab50fa35b4e678b7c338e6a079803",
            "5e2959e6e356431fa3add21325fd2f09",
            "461eb48f6e2246988d7166282150c9e5",
            "ac2b72df6d9441a5bdab3c12a2e1ccbb",
            "3874a49922d44c5385a3d62549c3c8d1",
            "3047a14c29124aa380b6a782b5d392f1",
            "849037a7d5be4f3687f23d87f1deb995"
          ]
        },
        "id": "c8df1785",
        "outputId": "7837d098-a2c4-433b-d976-7f8634a49a82"
      },
      "outputs": [
        {
          "name": "stderr",
          "output_type": "stream",
          "text": [
            "Some weights of BertForTokenClassification were not initialized from the model checkpoint at bert-base-cased and are newly initialized: ['classifier.bias', 'classifier.weight']\n",
            "You should probably TRAIN this model on a down-stream task to be able to use it for predictions and inference.\n"
          ]
        }
      ],
      "source": [
        "model = AutoModelForTokenClassification.from_pretrained(\"bert-base-cased\",num_labels = num_unique_tags )"
      ]
    },
    {
      "cell_type": "code",
      "execution_count": 30,
      "id": "6731ca3a",
      "metadata": {
        "id": "6731ca3a"
      },
      "outputs": [],
      "source": [
        "label_list = list(tag2idx.keys())\n",
        "\n",
        "def compute_metrics(p):\n",
        "    predictions, labels = p\n",
        "    predictions = np.argmax(predictions, axis=2)\n",
        "\n",
        "    true_preds = [\n",
        "        [label_list[p] for (p, l) in zip(pred_row, label_row) if l != -100]\n",
        "        for pred_row, label_row in zip(predictions, labels)\n",
        "    ]\n",
        "    true_labels = [\n",
        "        [label_list[l] for (p, l) in zip(pred_row, label_row) if l != -100]\n",
        "        for pred_row, label_row in zip(predictions, labels)\n",
        "    ]\n",
        "\n",
        "    flat_preds = list(chain.from_iterable(true_preds))\n",
        "    flat_labels = list(chain.from_iterable(true_labels))\n",
        "\n",
        "    report = classification_report(flat_labels, flat_preds, output_dict=True)\n",
        "\n",
        "    # Print individual class performance\n",
        "    print(\"\\n📊 Per-Tag F1 Scores:\")\n",
        "    for label, score in report.items():\n",
        "        if isinstance(score, dict):\n",
        "            print(f\"{label:15s} | F1: {score['f1-score']:.3f} | Precision: {score['precision']:.3f} | Recall: {score['recall']:.3f}\")\n",
        "\n",
        "    return {\n",
        "        \"f1\": report[\"weighted avg\"][\"f1-score\"],\n",
        "        \"precision\": report[\"weighted avg\"][\"precision\"],\n",
        "        \"recall\": report[\"weighted avg\"][\"recall\"]\n",
        "    }"
      ]
    },
    {
      "cell_type": "code",
      "execution_count": 31,
      "id": "ad215586",
      "metadata": {
        "colab": {
          "base_uri": "https://localhost:8080/",
          "height": 1000
        },
        "id": "ad215586",
        "outputId": "bbc08eca-adc2-431a-cb9f-76717c47421b"
      },
      "outputs": [
        {
          "name": "stderr",
          "output_type": "stream",
          "text": [
            "Using the `WANDB_DISABLED` environment variable is deprecated and will be removed in v5. Use the --report_to flag to control the integrations used for logging result (for instance --report_to none).\n",
            "  2%|▏         | 500/21717 [02:55<2:09:23,  2.73it/s]"
          ]
        },
        {
          "name": "stdout",
          "output_type": "stream",
          "text": [
            "{'loss': 0.2922, 'grad_norm': 1.2708771228790283, 'learning_rate': 1.9539531242805175e-05, 'epoch': 0.07}\n"
          ]
        },
        {
          "name": "stderr",
          "output_type": "stream",
          "text": [
            "  5%|▍         | 1000/21717 [05:59<2:08:37,  2.68it/s]"
          ]
        },
        {
          "name": "stdout",
          "output_type": "stream",
          "text": [
            "{'loss': 0.1168, 'grad_norm': 1.5426337718963623, 'learning_rate': 1.9079062485610353e-05, 'epoch': 0.14}\n"
          ]
        },
        {
          "name": "stderr",
          "output_type": "stream",
          "text": [
            "  7%|▋         | 1500/21717 [09:07<2:05:17,  2.69it/s]"
          ]
        },
        {
          "name": "stdout",
          "output_type": "stream",
          "text": [
            "{'loss': 0.0987, 'grad_norm': 1.0094839334487915, 'learning_rate': 1.861859372841553e-05, 'epoch': 0.21}\n"
          ]
        },
        {
          "name": "stderr",
          "output_type": "stream",
          "text": [
            "  9%|▉         | 2000/21717 [12:15<2:03:27,  2.66it/s]"
          ]
        },
        {
          "name": "stdout",
          "output_type": "stream",
          "text": [
            "{'loss': 0.0859, 'grad_norm': 1.7380201816558838, 'learning_rate': 1.8158124971220704e-05, 'epoch': 0.28}\n"
          ]
        },
        {
          "name": "stderr",
          "output_type": "stream",
          "text": [
            " 12%|█▏        | 2500/21717 [15:24<2:01:03,  2.65it/s]"
          ]
        },
        {
          "name": "stdout",
          "output_type": "stream",
          "text": [
            "{'loss': 0.0862, 'grad_norm': 1.8449664115905762, 'learning_rate': 1.769765621402588e-05, 'epoch': 0.35}\n"
          ]
        },
        {
          "name": "stderr",
          "output_type": "stream",
          "text": [
            " 14%|█▍        | 3000/21717 [18:33<1:58:36,  2.63it/s]"
          ]
        },
        {
          "name": "stdout",
          "output_type": "stream",
          "text": [
            "{'loss': 0.0836, 'grad_norm': 1.1979964971542358, 'learning_rate': 1.7237187456831055e-05, 'epoch': 0.41}\n"
          ]
        },
        {
          "name": "stderr",
          "output_type": "stream",
          "text": [
            " 16%|█▌        | 3500/21717 [21:43<1:53:54,  2.67it/s]"
          ]
        },
        {
          "name": "stdout",
          "output_type": "stream",
          "text": [
            "{'loss': 0.0782, 'grad_norm': 1.10016930103302, 'learning_rate': 1.6776718699636232e-05, 'epoch': 0.48}\n"
          ]
        },
        {
          "name": "stderr",
          "output_type": "stream",
          "text": [
            " 18%|█▊        | 4000/21717 [24:52<1:48:57,  2.71it/s]"
          ]
        },
        {
          "name": "stdout",
          "output_type": "stream",
          "text": [
            "{'loss': 0.0749, 'grad_norm': 0.6122045516967773, 'learning_rate': 1.6316249942441406e-05, 'epoch': 0.55}\n"
          ]
        },
        {
          "name": "stderr",
          "output_type": "stream",
          "text": [
            " 21%|██        | 4500/21717 [27:58<1:45:38,  2.72it/s]"
          ]
        },
        {
          "name": "stdout",
          "output_type": "stream",
          "text": [
            "{'loss': 0.073, 'grad_norm': 1.1209737062454224, 'learning_rate': 1.5855781185246583e-05, 'epoch': 0.62}\n"
          ]
        },
        {
          "name": "stderr",
          "output_type": "stream",
          "text": [
            " 23%|██▎       | 5000/21717 [31:04<1:43:07,  2.70it/s]"
          ]
        },
        {
          "name": "stdout",
          "output_type": "stream",
          "text": [
            "{'loss': 0.075, 'grad_norm': 2.840219736099243, 'learning_rate': 1.539531242805176e-05, 'epoch': 0.69}\n"
          ]
        },
        {
          "name": "stderr",
          "output_type": "stream",
          "text": [
            " 25%|██▌       | 5500/21717 [34:10<1:39:33,  2.71it/s]"
          ]
        },
        {
          "name": "stdout",
          "output_type": "stream",
          "text": [
            "{'loss': 0.0694, 'grad_norm': 0.5680403709411621, 'learning_rate': 1.4934843670856934e-05, 'epoch': 0.76}\n"
          ]
        },
        {
          "name": "stderr",
          "output_type": "stream",
          "text": [
            " 28%|██▊       | 6000/21717 [37:17<1:36:05,  2.73it/s]"
          ]
        },
        {
          "name": "stdout",
          "output_type": "stream",
          "text": [
            "{'loss': 0.0699, 'grad_norm': 2.7394847869873047, 'learning_rate': 1.4474374913662108e-05, 'epoch': 0.83}\n"
          ]
        },
        {
          "name": "stderr",
          "output_type": "stream",
          "text": [
            " 30%|██▉       | 6500/21717 [40:23<1:33:02,  2.73it/s]"
          ]
        },
        {
          "name": "stdout",
          "output_type": "stream",
          "text": [
            "{'loss': 0.0731, 'grad_norm': 2.539569854736328, 'learning_rate': 1.4013906156467285e-05, 'epoch': 0.9}\n"
          ]
        },
        {
          "name": "stderr",
          "output_type": "stream",
          "text": [
            " 32%|███▏      | 7000/21717 [43:29<1:30:47,  2.70it/s]"
          ]
        },
        {
          "name": "stdout",
          "output_type": "stream",
          "text": [
            "{'loss': 0.0668, 'grad_norm': 0.9530563950538635, 'learning_rate': 1.355343739927246e-05, 'epoch': 0.97}\n"
          ]
        },
        {
          "name": "stderr",
          "output_type": "stream",
          "text": [
            " 33%|███▎      | 7239/21717 [44:58<1:12:29,  3.33it/s]a:\\Data Science\\Huggingface + Pytorch\\.venv\\Lib\\site-packages\\sklearn\\metrics\\_classification.py:1509: UndefinedMetricWarning: Precision is ill-defined and being set to 0.0 in labels with no predicted samples. Use `zero_division` parameter to control this behavior.\n",
            "  _warn_prf(average, modifier, f\"{metric.capitalize()} is\", len(result))\n",
            "a:\\Data Science\\Huggingface + Pytorch\\.venv\\Lib\\site-packages\\sklearn\\metrics\\_classification.py:1509: UndefinedMetricWarning: Precision is ill-defined and being set to 0.0 in labels with no predicted samples. Use `zero_division` parameter to control this behavior.\n",
            "  _warn_prf(average, modifier, f\"{metric.capitalize()} is\", len(result))\n",
            "a:\\Data Science\\Huggingface + Pytorch\\.venv\\Lib\\site-packages\\sklearn\\metrics\\_classification.py:1509: UndefinedMetricWarning: Precision is ill-defined and being set to 0.0 in labels with no predicted samples. Use `zero_division` parameter to control this behavior.\n",
            "  _warn_prf(average, modifier, f\"{metric.capitalize()} is\", len(result))\n",
            "                                                      \n",
            " 33%|███▎      | 7239/21717 [58:56<1:12:29,  3.33it/s]"
          ]
        },
        {
          "name": "stdout",
          "output_type": "stream",
          "text": [
            "\n",
            "📊 Per-Tag F1 Scores:\n",
            "B-CARDINAL      | F1: 0.841 | Precision: 0.804 | Recall: 0.882\n",
            "B-DATE          | F1: 0.886 | Precision: 0.872 | Recall: 0.901\n",
            "B-EVENT         | F1: 0.676 | Precision: 0.714 | Recall: 0.642\n",
            "B-FAC           | F1: 0.606 | Precision: 0.589 | Recall: 0.624\n",
            "B-GPE           | F1: 0.930 | Precision: 0.926 | Recall: 0.933\n",
            "B-LANGUAGE      | F1: 0.806 | Precision: 0.926 | Recall: 0.714\n",
            "B-LAW           | F1: 0.667 | Precision: 0.551 | Recall: 0.844\n",
            "B-LOC           | F1: 0.764 | Precision: 0.811 | Recall: 0.722\n",
            "B-MONEY         | F1: 0.913 | Precision: 0.905 | Recall: 0.922\n",
            "B-NORP          | F1: 0.873 | Precision: 0.826 | Recall: 0.926\n",
            "B-ORDINAL       | F1: 0.796 | Precision: 0.736 | Recall: 0.866\n",
            "B-ORG           | F1: 0.902 | Precision: 0.889 | Recall: 0.914\n",
            "B-PERCENT       | F1: 0.934 | Precision: 0.938 | Recall: 0.930\n",
            "B-PERSON        | F1: 0.932 | Precision: 0.905 | Recall: 0.961\n",
            "B-PRODUCT       | F1: 0.504 | Precision: 0.691 | Recall: 0.397\n",
            "B-QUANTITY      | F1: 0.765 | Precision: 0.807 | Recall: 0.726\n",
            "B-TIME          | F1: 0.790 | Precision: 0.739 | Recall: 0.848\n",
            "B-WORK_OF_ART   | F1: 0.594 | Precision: 0.598 | Recall: 0.589\n",
            "I-CARDINAL      | F1: 0.816 | Precision: 0.780 | Recall: 0.854\n",
            "I-DATE          | F1: 0.885 | Precision: 0.834 | Recall: 0.943\n",
            "I-EVENT         | F1: 0.684 | Precision: 0.759 | Recall: 0.622\n",
            "I-FAC           | F1: 0.651 | Precision: 0.637 | Recall: 0.665\n",
            "I-GPE           | F1: 0.888 | Precision: 0.906 | Recall: 0.871\n",
            "I-LANGUAGE      | F1: 0.000 | Precision: 0.000 | Recall: 0.000\n",
            "I-LAW           | F1: 0.643 | Precision: 0.550 | Recall: 0.773\n",
            "I-LOC           | F1: 0.752 | Precision: 0.807 | Recall: 0.704\n",
            "I-MONEY         | F1: 0.941 | Precision: 0.933 | Recall: 0.948\n",
            "I-NORP          | F1: 0.624 | Precision: 0.603 | Recall: 0.647\n",
            "I-ORDINAL       | F1: 0.000 | Precision: 0.000 | Recall: 0.000\n",
            "I-ORG           | F1: 0.916 | Precision: 0.887 | Recall: 0.947\n",
            "I-PERCENT       | F1: 0.947 | Precision: 0.927 | Recall: 0.968\n",
            "I-PERSON        | F1: 0.944 | Precision: 0.912 | Recall: 0.978\n",
            "I-PRODUCT       | F1: 0.588 | Precision: 0.789 | Recall: 0.469\n",
            "I-QUANTITY      | F1: 0.865 | Precision: 0.853 | Recall: 0.877\n",
            "I-TIME          | F1: 0.770 | Precision: 0.680 | Recall: 0.887\n",
            "I-WORK_OF_ART   | F1: 0.653 | Precision: 0.628 | Recall: 0.680\n",
            "O               | F1: 0.991 | Precision: 0.994 | Recall: 0.987\n",
            "macro avg       | F1: 0.750 | Precision: 0.749 | Recall: 0.761\n",
            "weighted avg    | F1: 0.978 | Precision: 0.978 | Recall: 0.977\n",
            "{'eval_loss': 0.07186970859766006, 'eval_f1': 0.9775546015495594, 'eval_precision': 0.9782599218006846, 'eval_recall': 0.977332500493129, 'eval_runtime': 837.664, 'eval_samples_per_second': 18.719, 'eval_steps_per_second': 1.17, 'epoch': 1.0}\n"
          ]
        },
        {
          "name": "stderr",
          "output_type": "stream",
          "text": [
            " 35%|███▍      | 7500/21717 [1:00:28<1:26:25,  2.74it/s]  "
          ]
        },
        {
          "name": "stdout",
          "output_type": "stream",
          "text": [
            "{'loss': 0.0547, 'grad_norm': 0.2554258704185486, 'learning_rate': 1.3092968642077638e-05, 'epoch': 1.04}\n"
          ]
        },
        {
          "name": "stderr",
          "output_type": "stream",
          "text": [
            " 37%|███▋      | 8000/21717 [1:03:31<1:23:21,  2.74it/s]"
          ]
        },
        {
          "name": "stdout",
          "output_type": "stream",
          "text": [
            "{'loss': 0.0483, 'grad_norm': 0.7221314907073975, 'learning_rate': 1.2632499884882811e-05, 'epoch': 1.11}\n"
          ]
        },
        {
          "name": "stderr",
          "output_type": "stream",
          "text": [
            " 39%|███▉      | 8500/21717 [1:06:36<1:20:54,  2.72it/s]"
          ]
        },
        {
          "name": "stdout",
          "output_type": "stream",
          "text": [
            "{'loss': 0.0499, 'grad_norm': 2.245847702026367, 'learning_rate': 1.2172031127687987e-05, 'epoch': 1.17}\n"
          ]
        },
        {
          "name": "stderr",
          "output_type": "stream",
          "text": [
            " 41%|████▏     | 9000/21717 [1:09:44<1:19:09,  2.68it/s]"
          ]
        },
        {
          "name": "stdout",
          "output_type": "stream",
          "text": [
            "{'loss': 0.0484, 'grad_norm': 1.3905396461486816, 'learning_rate': 1.1711562370493164e-05, 'epoch': 1.24}\n"
          ]
        },
        {
          "name": "stderr",
          "output_type": "stream",
          "text": [
            " 44%|████▎     | 9500/21717 [1:12:51<1:17:03,  2.64it/s]"
          ]
        },
        {
          "name": "stdout",
          "output_type": "stream",
          "text": [
            "{'loss': 0.0475, 'grad_norm': 1.5168927907943726, 'learning_rate': 1.1251093613298338e-05, 'epoch': 1.31}\n"
          ]
        },
        {
          "name": "stderr",
          "output_type": "stream",
          "text": [
            " 46%|████▌     | 10000/21717 [1:15:59<1:12:21,  2.70it/s]"
          ]
        },
        {
          "name": "stdout",
          "output_type": "stream",
          "text": [
            "{'loss': 0.0479, 'grad_norm': 1.1592071056365967, 'learning_rate': 1.0790624856103513e-05, 'epoch': 1.38}\n"
          ]
        },
        {
          "name": "stderr",
          "output_type": "stream",
          "text": [
            " 48%|████▊     | 10500/21717 [1:19:05<1:08:25,  2.73it/s]"
          ]
        },
        {
          "name": "stdout",
          "output_type": "stream",
          "text": [
            "{'loss': 0.0462, 'grad_norm': 1.7378140687942505, 'learning_rate': 1.033015609890869e-05, 'epoch': 1.45}\n"
          ]
        },
        {
          "name": "stderr",
          "output_type": "stream",
          "text": [
            " 51%|█████     | 11000/21717 [1:22:12<1:06:24,  2.69it/s]"
          ]
        },
        {
          "name": "stdout",
          "output_type": "stream",
          "text": [
            "{'loss': 0.0477, 'grad_norm': 0.13516467809677124, 'learning_rate': 9.869687341713864e-06, 'epoch': 1.52}\n"
          ]
        },
        {
          "name": "stderr",
          "output_type": "stream",
          "text": [
            " 53%|█████▎    | 11500/21717 [1:25:18<1:02:48,  2.71it/s]"
          ]
        },
        {
          "name": "stdout",
          "output_type": "stream",
          "text": [
            "{'loss': 0.043, 'grad_norm': 2.5371029376983643, 'learning_rate': 9.409218584519042e-06, 'epoch': 1.59}\n"
          ]
        },
        {
          "name": "stderr",
          "output_type": "stream",
          "text": [
            " 55%|█████▌    | 12000/21717 [1:28:24<59:56,  2.70it/s]  "
          ]
        },
        {
          "name": "stdout",
          "output_type": "stream",
          "text": [
            "{'loss': 0.0429, 'grad_norm': 0.903209924697876, 'learning_rate': 8.948749827324217e-06, 'epoch': 1.66}\n"
          ]
        },
        {
          "name": "stderr",
          "output_type": "stream",
          "text": [
            " 58%|█████▊    | 12500/21717 [1:31:31<56:42,  2.71it/s]  "
          ]
        },
        {
          "name": "stdout",
          "output_type": "stream",
          "text": [
            "{'loss': 0.0447, 'grad_norm': 0.7219765186309814, 'learning_rate': 8.488281070129393e-06, 'epoch': 1.73}\n"
          ]
        },
        {
          "name": "stderr",
          "output_type": "stream",
          "text": [
            " 60%|█████▉    | 13000/21717 [1:34:38<54:12,  2.68it/s]  "
          ]
        },
        {
          "name": "stdout",
          "output_type": "stream",
          "text": [
            "{'loss': 0.0419, 'grad_norm': 0.8067983984947205, 'learning_rate': 8.027812312934568e-06, 'epoch': 1.8}\n"
          ]
        },
        {
          "name": "stderr",
          "output_type": "stream",
          "text": [
            " 62%|██████▏   | 13500/21717 [1:37:45<50:47,  2.70it/s]  "
          ]
        },
        {
          "name": "stdout",
          "output_type": "stream",
          "text": [
            "{'loss': 0.0448, 'grad_norm': 0.10106739401817322, 'learning_rate': 7.567343555739744e-06, 'epoch': 1.86}\n"
          ]
        },
        {
          "name": "stderr",
          "output_type": "stream",
          "text": [
            " 64%|██████▍   | 14000/21717 [1:40:52<48:00,  2.68it/s]  "
          ]
        },
        {
          "name": "stdout",
          "output_type": "stream",
          "text": [
            "{'loss': 0.0436, 'grad_norm': 0.6198940873146057, 'learning_rate': 7.106874798544919e-06, 'epoch': 1.93}\n"
          ]
        },
        {
          "name": "stderr",
          "output_type": "stream",
          "text": [
            " 67%|██████▋   | 14478/21717 [1:43:51<37:00,  3.26it/s]  a:\\Data Science\\Huggingface + Pytorch\\.venv\\Lib\\site-packages\\sklearn\\metrics\\_classification.py:1509: UndefinedMetricWarning: Precision is ill-defined and being set to 0.0 in labels with no predicted samples. Use `zero_division` parameter to control this behavior.\n",
            "  _warn_prf(average, modifier, f\"{metric.capitalize()} is\", len(result))\n",
            "a:\\Data Science\\Huggingface + Pytorch\\.venv\\Lib\\site-packages\\sklearn\\metrics\\_classification.py:1509: UndefinedMetricWarning: Precision is ill-defined and being set to 0.0 in labels with no predicted samples. Use `zero_division` parameter to control this behavior.\n",
            "  _warn_prf(average, modifier, f\"{metric.capitalize()} is\", len(result))\n",
            "a:\\Data Science\\Huggingface + Pytorch\\.venv\\Lib\\site-packages\\sklearn\\metrics\\_classification.py:1509: UndefinedMetricWarning: Precision is ill-defined and being set to 0.0 in labels with no predicted samples. Use `zero_division` parameter to control this behavior.\n",
            "  _warn_prf(average, modifier, f\"{metric.capitalize()} is\", len(result))\n",
            "                                                       \n",
            " 67%|██████▋   | 14478/21717 [1:45:51<37:00,  3.26it/s]"
          ]
        },
        {
          "name": "stdout",
          "output_type": "stream",
          "text": [
            "\n",
            "📊 Per-Tag F1 Scores:\n",
            "B-CARDINAL      | F1: 0.847 | Precision: 0.791 | Recall: 0.910\n",
            "B-DATE          | F1: 0.892 | Precision: 0.883 | Recall: 0.902\n",
            "B-EVENT         | F1: 0.684 | Precision: 0.809 | Recall: 0.592\n",
            "B-FAC           | F1: 0.615 | Precision: 0.575 | Recall: 0.662\n",
            "B-GPE           | F1: 0.936 | Precision: 0.933 | Recall: 0.940\n",
            "B-LANGUAGE      | F1: 0.778 | Precision: 0.757 | Recall: 0.800\n",
            "B-LAW           | F1: 0.716 | Precision: 0.686 | Recall: 0.750\n",
            "B-LOC           | F1: 0.789 | Precision: 0.784 | Recall: 0.794\n",
            "B-MONEY         | F1: 0.910 | Precision: 0.903 | Recall: 0.916\n",
            "B-NORP          | F1: 0.895 | Precision: 0.883 | Recall: 0.908\n",
            "B-ORDINAL       | F1: 0.809 | Precision: 0.755 | Recall: 0.872\n",
            "B-ORG           | F1: 0.906 | Precision: 0.897 | Recall: 0.916\n",
            "B-PERCENT       | F1: 0.920 | Precision: 0.923 | Recall: 0.916\n",
            "B-PERSON        | F1: 0.939 | Precision: 0.917 | Recall: 0.962\n",
            "B-PRODUCT       | F1: 0.569 | Precision: 0.696 | Recall: 0.481\n",
            "B-QUANTITY      | F1: 0.781 | Precision: 0.837 | Recall: 0.732\n",
            "B-TIME          | F1: 0.797 | Precision: 0.755 | Recall: 0.845\n",
            "B-WORK_OF_ART   | F1: 0.599 | Precision: 0.651 | Recall: 0.554\n",
            "I-CARDINAL      | F1: 0.806 | Precision: 0.722 | Recall: 0.913\n",
            "I-DATE          | F1: 0.891 | Precision: 0.862 | Recall: 0.923\n",
            "I-EVENT         | F1: 0.742 | Precision: 0.784 | Recall: 0.705\n",
            "I-FAC           | F1: 0.672 | Precision: 0.636 | Recall: 0.713\n",
            "I-GPE           | F1: 0.902 | Precision: 0.910 | Recall: 0.895\n",
            "I-LANGUAGE      | F1: 0.000 | Precision: 0.000 | Recall: 0.000\n",
            "I-LAW           | F1: 0.694 | Precision: 0.750 | Recall: 0.645\n",
            "I-LOC           | F1: 0.797 | Precision: 0.801 | Recall: 0.793\n",
            "I-MONEY         | F1: 0.944 | Precision: 0.925 | Recall: 0.965\n",
            "I-NORP          | F1: 0.641 | Precision: 0.667 | Recall: 0.618\n",
            "I-ORDINAL       | F1: 0.000 | Precision: 0.000 | Recall: 0.000\n",
            "I-ORG           | F1: 0.922 | Precision: 0.910 | Recall: 0.934\n",
            "I-PERCENT       | F1: 0.946 | Precision: 0.915 | Recall: 0.979\n",
            "I-PERSON        | F1: 0.951 | Precision: 0.928 | Recall: 0.975\n",
            "I-PRODUCT       | F1: 0.648 | Precision: 0.795 | Recall: 0.547\n",
            "I-QUANTITY      | F1: 0.874 | Precision: 0.839 | Recall: 0.913\n",
            "I-TIME          | F1: 0.808 | Precision: 0.734 | Recall: 0.899\n",
            "I-WORK_OF_ART   | F1: 0.696 | Precision: 0.701 | Recall: 0.691\n",
            "O               | F1: 0.991 | Precision: 0.994 | Recall: 0.989\n",
            "macro avg       | F1: 0.765 | Precision: 0.765 | Recall: 0.772\n",
            "weighted avg    | F1: 0.979 | Precision: 0.980 | Recall: 0.979\n",
            "{'eval_loss': 0.07096481323242188, 'eval_f1': 0.979115710522583, 'eval_precision': 0.9795664647807196, 'eval_recall': 0.9789828391084227, 'eval_runtime': 120.4873, 'eval_samples_per_second': 130.138, 'eval_steps_per_second': 8.134, 'epoch': 2.0}\n"
          ]
        },
        {
          "name": "stderr",
          "output_type": "stream",
          "text": [
            " 67%|██████▋   | 14500/21717 [1:45:59<46:14,  2.60it/s]   "
          ]
        },
        {
          "name": "stdout",
          "output_type": "stream",
          "text": [
            "{'loss': 0.0425, 'grad_norm': 0.8138832449913025, 'learning_rate': 6.6464060413500955e-06, 'epoch': 2.0}\n"
          ]
        },
        {
          "name": "stderr",
          "output_type": "stream",
          "text": [
            " 69%|██████▉   | 15000/21717 [1:49:06<41:17,  2.71it/s]  "
          ]
        },
        {
          "name": "stdout",
          "output_type": "stream",
          "text": [
            "{'loss': 0.0276, 'grad_norm': 0.9270005226135254, 'learning_rate': 6.18593728415527e-06, 'epoch': 2.07}\n"
          ]
        },
        {
          "name": "stderr",
          "output_type": "stream",
          "text": [
            " 71%|███████▏  | 15500/21717 [1:52:12<38:12,  2.71it/s]  "
          ]
        },
        {
          "name": "stdout",
          "output_type": "stream",
          "text": [
            "{'loss': 0.0292, 'grad_norm': 0.4174116551876068, 'learning_rate': 5.725468526960446e-06, 'epoch': 2.14}\n"
          ]
        },
        {
          "name": "stderr",
          "output_type": "stream",
          "text": [
            " 74%|███████▎  | 16000/21717 [1:55:18<35:07,  2.71it/s]  "
          ]
        },
        {
          "name": "stdout",
          "output_type": "stream",
          "text": [
            "{'loss': 0.0319, 'grad_norm': 1.2539585828781128, 'learning_rate': 5.264999769765622e-06, 'epoch': 2.21}\n"
          ]
        },
        {
          "name": "stderr",
          "output_type": "stream",
          "text": [
            " 76%|███████▌  | 16500/21717 [1:58:24<31:58,  2.72it/s]  "
          ]
        },
        {
          "name": "stdout",
          "output_type": "stream",
          "text": [
            "{'loss': 0.0274, 'grad_norm': 0.826798677444458, 'learning_rate': 4.8045310125707975e-06, 'epoch': 2.28}\n"
          ]
        },
        {
          "name": "stderr",
          "output_type": "stream",
          "text": [
            " 78%|███████▊  | 17000/21717 [2:01:31<28:46,  2.73it/s]  "
          ]
        },
        {
          "name": "stdout",
          "output_type": "stream",
          "text": [
            "{'loss': 0.0297, 'grad_norm': 0.06155474856495857, 'learning_rate': 4.344062255375973e-06, 'epoch': 2.35}\n"
          ]
        },
        {
          "name": "stderr",
          "output_type": "stream",
          "text": [
            " 81%|████████  | 17500/21717 [2:04:37<26:13,  2.68it/s]  "
          ]
        },
        {
          "name": "stdout",
          "output_type": "stream",
          "text": [
            "{'loss': 0.0291, 'grad_norm': 4.851905345916748, 'learning_rate': 3.8835934981811485e-06, 'epoch': 2.42}\n"
          ]
        },
        {
          "name": "stderr",
          "output_type": "stream",
          "text": [
            " 83%|████████▎ | 18000/21717 [2:07:44<23:04,  2.68it/s]"
          ]
        },
        {
          "name": "stdout",
          "output_type": "stream",
          "text": [
            "{'loss': 0.0267, 'grad_norm': 0.029800157994031906, 'learning_rate': 3.4231247409863244e-06, 'epoch': 2.49}\n"
          ]
        },
        {
          "name": "stderr",
          "output_type": "stream",
          "text": [
            " 85%|████████▌ | 18500/21717 [2:10:50<19:40,  2.72it/s]"
          ]
        },
        {
          "name": "stdout",
          "output_type": "stream",
          "text": [
            "{'loss': 0.0278, 'grad_norm': 0.6381577253341675, 'learning_rate': 2.9626559837915e-06, 'epoch': 2.56}\n"
          ]
        },
        {
          "name": "stderr",
          "output_type": "stream",
          "text": [
            " 87%|████████▋ | 19000/21717 [2:13:57<16:47,  2.70it/s]"
          ]
        },
        {
          "name": "stdout",
          "output_type": "stream",
          "text": [
            "{'loss': 0.0276, 'grad_norm': 0.35083767771720886, 'learning_rate': 2.502187226596676e-06, 'epoch': 2.62}\n"
          ]
        },
        {
          "name": "stderr",
          "output_type": "stream",
          "text": [
            " 90%|████████▉ | 19500/21717 [2:17:04<13:41,  2.70it/s]"
          ]
        },
        {
          "name": "stdout",
          "output_type": "stream",
          "text": [
            "{'loss': 0.0259, 'grad_norm': 0.06014588102698326, 'learning_rate': 2.0417184694018513e-06, 'epoch': 2.69}\n"
          ]
        },
        {
          "name": "stderr",
          "output_type": "stream",
          "text": [
            " 92%|█████████▏| 20000/21717 [2:20:11<10:34,  2.71it/s]"
          ]
        },
        {
          "name": "stdout",
          "output_type": "stream",
          "text": [
            "{'loss': 0.026, 'grad_norm': 0.47626519203186035, 'learning_rate': 1.581249712207027e-06, 'epoch': 2.76}\n"
          ]
        },
        {
          "name": "stderr",
          "output_type": "stream",
          "text": [
            " 94%|█████████▍| 20500/21717 [2:23:17<07:37,  2.66it/s]"
          ]
        },
        {
          "name": "stdout",
          "output_type": "stream",
          "text": [
            "{'loss': 0.0259, 'grad_norm': 0.5696680545806885, 'learning_rate': 1.1207809550122025e-06, 'epoch': 2.83}\n"
          ]
        },
        {
          "name": "stderr",
          "output_type": "stream",
          "text": [
            " 97%|█████████▋| 21000/21717 [2:26:24<04:25,  2.70it/s]"
          ]
        },
        {
          "name": "stdout",
          "output_type": "stream",
          "text": [
            "{'loss': 0.0267, 'grad_norm': 0.6110408902168274, 'learning_rate': 6.603121978173783e-07, 'epoch': 2.9}\n"
          ]
        },
        {
          "name": "stderr",
          "output_type": "stream",
          "text": [
            " 99%|█████████▉| 21500/21717 [2:29:32<01:20,  2.69it/s]"
          ]
        },
        {
          "name": "stdout",
          "output_type": "stream",
          "text": [
            "{'loss': 0.0289, 'grad_norm': 4.0623698234558105, 'learning_rate': 1.9984344062255376e-07, 'epoch': 2.97}\n"
          ]
        },
        {
          "name": "stderr",
          "output_type": "stream",
          "text": [
            "100%|██████████| 21717/21717 [2:30:54<00:00,  3.34it/s]a:\\Data Science\\Huggingface + Pytorch\\.venv\\Lib\\site-packages\\sklearn\\metrics\\_classification.py:1509: UndefinedMetricWarning: Precision is ill-defined and being set to 0.0 in labels with no predicted samples. Use `zero_division` parameter to control this behavior.\n",
            "  _warn_prf(average, modifier, f\"{metric.capitalize()} is\", len(result))\n",
            "a:\\Data Science\\Huggingface + Pytorch\\.venv\\Lib\\site-packages\\sklearn\\metrics\\_classification.py:1509: UndefinedMetricWarning: Precision is ill-defined and being set to 0.0 in labels with no predicted samples. Use `zero_division` parameter to control this behavior.\n",
            "  _warn_prf(average, modifier, f\"{metric.capitalize()} is\", len(result))\n",
            "a:\\Data Science\\Huggingface + Pytorch\\.venv\\Lib\\site-packages\\sklearn\\metrics\\_classification.py:1509: UndefinedMetricWarning: Precision is ill-defined and being set to 0.0 in labels with no predicted samples. Use `zero_division` parameter to control this behavior.\n",
            "  _warn_prf(average, modifier, f\"{metric.capitalize()} is\", len(result))\n",
            "                                                       \n",
            "100%|██████████| 21717/21717 [2:32:53<00:00,  2.37it/s]"
          ]
        },
        {
          "name": "stdout",
          "output_type": "stream",
          "text": [
            "\n",
            "📊 Per-Tag F1 Scores:\n",
            "B-CARDINAL      | F1: 0.849 | Precision: 0.818 | Recall: 0.882\n",
            "B-DATE          | F1: 0.892 | Precision: 0.887 | Recall: 0.897\n",
            "B-EVENT         | F1: 0.647 | Precision: 0.759 | Recall: 0.564\n",
            "B-FAC           | F1: 0.602 | Precision: 0.575 | Recall: 0.632\n",
            "B-GPE           | F1: 0.937 | Precision: 0.935 | Recall: 0.938\n",
            "B-LANGUAGE      | F1: 0.686 | Precision: 0.686 | Recall: 0.686\n",
            "B-LAW           | F1: 0.763 | Precision: 0.746 | Recall: 0.781\n",
            "B-LOC           | F1: 0.793 | Precision: 0.782 | Recall: 0.804\n",
            "B-MONEY         | F1: 0.912 | Precision: 0.908 | Recall: 0.916\n",
            "B-NORP          | F1: 0.901 | Precision: 0.892 | Recall: 0.910\n",
            "B-ORDINAL       | F1: 0.780 | Precision: 0.763 | Recall: 0.797\n",
            "B-ORG           | F1: 0.908 | Precision: 0.900 | Recall: 0.917\n",
            "B-PERCENT       | F1: 0.920 | Precision: 0.929 | Recall: 0.912\n",
            "B-PERSON        | F1: 0.942 | Precision: 0.929 | Recall: 0.956\n",
            "B-PRODUCT       | F1: 0.570 | Precision: 0.655 | Recall: 0.505\n",
            "B-QUANTITY      | F1: 0.780 | Precision: 0.828 | Recall: 0.737\n",
            "B-TIME          | F1: 0.804 | Precision: 0.766 | Recall: 0.845\n",
            "B-WORK_OF_ART   | F1: 0.595 | Precision: 0.613 | Recall: 0.579\n",
            "I-CARDINAL      | F1: 0.816 | Precision: 0.741 | Recall: 0.909\n",
            "I-DATE          | F1: 0.893 | Precision: 0.866 | Recall: 0.921\n",
            "I-EVENT         | F1: 0.706 | Precision: 0.766 | Recall: 0.655\n",
            "I-FAC           | F1: 0.651 | Precision: 0.641 | Recall: 0.661\n",
            "I-GPE           | F1: 0.902 | Precision: 0.901 | Recall: 0.903\n",
            "I-LANGUAGE      | F1: 0.000 | Precision: 0.000 | Recall: 0.000\n",
            "I-LAW           | F1: 0.763 | Precision: 0.777 | Recall: 0.750\n",
            "I-LOC           | F1: 0.803 | Precision: 0.806 | Recall: 0.800\n",
            "I-MONEY         | F1: 0.949 | Precision: 0.925 | Recall: 0.975\n",
            "I-NORP          | F1: 0.686 | Precision: 0.681 | Recall: 0.691\n",
            "I-ORDINAL       | F1: 0.000 | Precision: 0.000 | Recall: 0.000\n",
            "I-ORG           | F1: 0.924 | Precision: 0.910 | Recall: 0.938\n",
            "I-PERCENT       | F1: 0.943 | Precision: 0.909 | Recall: 0.979\n",
            "I-PERSON        | F1: 0.953 | Precision: 0.934 | Recall: 0.973\n",
            "I-PRODUCT       | F1: 0.647 | Precision: 0.755 | Recall: 0.566\n",
            "I-QUANTITY      | F1: 0.888 | Precision: 0.870 | Recall: 0.907\n",
            "I-TIME          | F1: 0.814 | Precision: 0.754 | Recall: 0.884\n",
            "I-WORK_OF_ART   | F1: 0.688 | Precision: 0.695 | Recall: 0.682\n",
            "O               | F1: 0.992 | Precision: 0.993 | Recall: 0.990\n",
            "macro avg       | F1: 0.765 | Precision: 0.765 | Recall: 0.769\n",
            "weighted avg    | F1: 0.979 | Precision: 0.980 | Recall: 0.979\n",
            "{'eval_loss': 0.07589893043041229, 'eval_f1': 0.9794552609867925, 'eval_precision': 0.9797242846175965, 'eval_recall': 0.9793806298901966, 'eval_runtime': 119.3144, 'eval_samples_per_second': 131.418, 'eval_steps_per_second': 8.214, 'epoch': 3.0}\n",
            "{'train_runtime': 9173.4974, 'train_samples_per_second': 37.874, 'train_steps_per_second': 2.367, 'train_loss': 0.0562051220504916, 'epoch': 3.0}\n"
          ]
        },
        {
          "name": "stderr",
          "output_type": "stream",
          "text": [
            "\n"
          ]
        },
        {
          "data": {
            "text/plain": [
              "TrainOutput(global_step=21717, training_loss=0.0562051220504916, metrics={'train_runtime': 9173.4974, 'train_samples_per_second': 37.874, 'train_steps_per_second': 2.367, 'total_flos': 2.2703156745606144e+16, 'train_loss': 0.0562051220504916, 'epoch': 3.0})"
            ]
          },
          "execution_count": 31,
          "metadata": {},
          "output_type": "execute_result"
        }
      ],
      "source": [
        "args = TrainingArguments(\n",
        "    \"ner-model\",\n",
        "    evaluation_strategy=\"epoch\",\n",
        "    learning_rate=2e-5,\n",
        "    per_device_train_batch_size=16,\n",
        "    per_device_eval_batch_size=16,\n",
        "    num_train_epochs=3,\n",
        "    weight_decay=0.01\n",
        ")\n",
        "\n",
        "trainer = Trainer(\n",
        "    model = model,\n",
        "    args=args,\n",
        "    train_dataset=tokenized_dataset[\"train\"],\n",
        "    eval_dataset=tokenized_dataset[\"validation\"],\n",
        "    tokenizer = tokenizer,\n",
        "    compute_metrics=compute_metrics,\n",
        ")\n",
        "\n",
        "trainer.train()"
      ]
    },
    {
      "cell_type": "markdown",
      "id": "7a89ef99",
      "metadata": {},
      "source": [
        "## **Test Evaluation**"
      ]
    },
    {
      "cell_type": "code",
      "execution_count": 32,
      "id": "Qfk3VlTCI2Rr",
      "metadata": {
        "colab": {
          "base_uri": "https://localhost:8080/",
          "height": 994
        },
        "id": "Qfk3VlTCI2Rr",
        "outputId": "2f36f6f5-813a-4bcd-8b97-86d171a57676"
      },
      "outputs": [
        {
          "name": "stderr",
          "output_type": "stream",
          "text": [
            "100%|█████████▉| 763/764 [01:27<00:00,  8.36it/s]a:\\Data Science\\Huggingface + Pytorch\\.venv\\Lib\\site-packages\\sklearn\\metrics\\_classification.py:1509: UndefinedMetricWarning: Precision is ill-defined and being set to 0.0 in labels with no predicted samples. Use `zero_division` parameter to control this behavior.\n",
            "  _warn_prf(average, modifier, f\"{metric.capitalize()} is\", len(result))\n",
            "a:\\Data Science\\Huggingface + Pytorch\\.venv\\Lib\\site-packages\\sklearn\\metrics\\_classification.py:1509: UndefinedMetricWarning: Precision is ill-defined and being set to 0.0 in labels with no predicted samples. Use `zero_division` parameter to control this behavior.\n",
            "  _warn_prf(average, modifier, f\"{metric.capitalize()} is\", len(result))\n",
            "a:\\Data Science\\Huggingface + Pytorch\\.venv\\Lib\\site-packages\\sklearn\\metrics\\_classification.py:1509: UndefinedMetricWarning: Precision is ill-defined and being set to 0.0 in labels with no predicted samples. Use `zero_division` parameter to control this behavior.\n",
            "  _warn_prf(average, modifier, f\"{metric.capitalize()} is\", len(result))\n",
            "100%|██████████| 764/764 [01:31<00:00,  8.38it/s]"
          ]
        },
        {
          "name": "stdout",
          "output_type": "stream",
          "text": [
            "\n",
            "📊 Per-Tag F1 Scores:\n",
            "B-CARDINAL      | F1: 0.816 | Precision: 0.818 | Recall: 0.814\n",
            "B-DATE          | F1: 0.864 | Precision: 0.841 | Recall: 0.889\n",
            "B-EVENT         | F1: 0.635 | Precision: 0.635 | Recall: 0.635\n",
            "B-FAC           | F1: 0.662 | Precision: 0.705 | Recall: 0.624\n",
            "B-GPE           | F1: 0.927 | Precision: 0.931 | Recall: 0.922\n",
            "B-LANGUAGE      | F1: 0.649 | Precision: 0.800 | Recall: 0.545\n",
            "B-LAW           | F1: 0.624 | Precision: 0.592 | Recall: 0.659\n",
            "B-LOC           | F1: 0.720 | Precision: 0.689 | Recall: 0.753\n",
            "B-MONEY         | F1: 0.909 | Precision: 0.894 | Recall: 0.924\n",
            "B-NORP          | F1: 0.920 | Precision: 0.907 | Recall: 0.933\n",
            "B-ORDINAL       | F1: 0.758 | Precision: 0.719 | Recall: 0.802\n",
            "B-ORG           | F1: 0.903 | Precision: 0.890 | Recall: 0.918\n",
            "B-PERCENT       | F1: 0.916 | Precision: 0.898 | Recall: 0.934\n",
            "B-PERSON        | F1: 0.924 | Precision: 0.921 | Recall: 0.927\n",
            "B-PRODUCT       | F1: 0.685 | Precision: 0.670 | Recall: 0.700\n",
            "B-QUANTITY      | F1: 0.759 | Precision: 0.803 | Recall: 0.719\n",
            "B-TIME          | F1: 0.714 | Precision: 0.707 | Recall: 0.720\n",
            "B-WORK_OF_ART   | F1: 0.703 | Precision: 0.691 | Recall: 0.716\n",
            "I-CARDINAL      | F1: 0.805 | Precision: 0.772 | Recall: 0.841\n",
            "I-DATE          | F1: 0.878 | Precision: 0.858 | Recall: 0.898\n",
            "I-EVENT         | F1: 0.612 | Precision: 0.571 | Recall: 0.661\n",
            "I-FAC           | F1: 0.742 | Precision: 0.764 | Recall: 0.720\n",
            "I-GPE           | F1: 0.897 | Precision: 0.923 | Recall: 0.872\n",
            "I-LAW           | F1: 0.598 | Precision: 0.545 | Recall: 0.661\n",
            "I-LOC           | F1: 0.794 | Precision: 0.796 | Recall: 0.792\n",
            "I-MONEY         | F1: 0.949 | Precision: 0.931 | Recall: 0.969\n",
            "I-NORP          | F1: 0.879 | Precision: 0.931 | Recall: 0.833\n",
            "I-ORDINAL       | F1: 0.000 | Precision: 0.000 | Recall: 0.000\n",
            "I-ORG           | F1: 0.904 | Precision: 0.875 | Recall: 0.934\n",
            "I-PERCENT       | F1: 0.937 | Precision: 0.918 | Recall: 0.958\n",
            "I-PERSON        | F1: 0.937 | Precision: 0.935 | Recall: 0.940\n",
            "I-PRODUCT       | F1: 0.761 | Precision: 0.694 | Recall: 0.843\n",
            "I-QUANTITY      | F1: 0.843 | Precision: 0.815 | Recall: 0.874\n",
            "I-TIME          | F1: 0.735 | Precision: 0.714 | Recall: 0.756\n",
            "I-WORK_OF_ART   | F1: 0.670 | Precision: 0.750 | Recall: 0.605\n",
            "O               | F1: 0.991 | Precision: 0.993 | Recall: 0.990\n",
            "macro avg       | F1: 0.778 | Precision: 0.775 | Recall: 0.786\n",
            "weighted avg    | F1: 0.980 | Precision: 0.980 | Recall: 0.980\n"
          ]
        },
        {
          "name": "stderr",
          "output_type": "stream",
          "text": [
            "\n"
          ]
        },
        {
          "data": {
            "text/plain": [
              "{'eval_loss': 0.0735793486237526,\n",
              " 'eval_f1': 0.979961788287299,\n",
              " 'eval_precision': 0.9802169930081773,\n",
              " 'eval_recall': 0.9798393406708049,\n",
              " 'eval_runtime': 91.5412,\n",
              " 'eval_samples_per_second': 133.459,\n",
              " 'eval_steps_per_second': 8.346,\n",
              " 'epoch': 3.0}"
            ]
          },
          "execution_count": 32,
          "metadata": {},
          "output_type": "execute_result"
        }
      ],
      "source": [
        "trainer.evaluate(tokenized_dataset[\"test\"])"
      ]
    },
    {
      "cell_type": "markdown",
      "id": "4e4a06d2",
      "metadata": {},
      "source": [
        "## **Training vs Validation Loss**"
      ]
    },
    {
      "cell_type": "code",
      "execution_count": 44,
      "id": "2ba0421c",
      "metadata": {},
      "outputs": [
        {
          "data": {
            "image/png": "[encoded data removed]",
            "text/plain": [
              "<Figure size 1200x500 with 1 Axes>"
            ]
          },
          "metadata": {},
          "output_type": "display_data"
        }
      ],
      "source": [
        "training_logs = trainer.state.log_history\n",
        "\n",
        "\n",
        "train_loss = [log[\"loss\"] for log in training_logs if \"loss\" in log]\n",
        "eval_loss = [log[\"eval_loss\"] for log in training_logs if \"eval_loss\" in log]\n",
        "eval_steps = [log[\"step\"] for log in training_logs if \"eval_loss\" in log]\n",
        "train_steps = [log[\"step\"] for log in training_logs if \"loss\" in log]\n",
        "\n",
        "plt.figure(figsize=(12, 5))\n",
        "plt.plot(train_steps, train_loss, label=\"Training Loss\", marker='o')\n",
        "plt.plot(eval_steps, eval_loss, label=\"Validation Loss\", marker='x')\n",
        "plt.title(\"Loss Over Training Steps\")\n",
        "plt.xlabel(\"Steps\")\n",
        "plt.ylabel(\"Loss\")\n",
        "plt.legend()\n",
        "plt.grid(True)\n",
        "plt.show()"
      ]
    },
    {
      "cell_type": "markdown",
      "id": "2ae6260c",
      "metadata": {},
      "source": [
        "## **Save Model**"
      ]
    },
    {
      "cell_type": "code",
      "execution_count": 34,
      "id": "vy4JjyT6_fEW",
      "metadata": {
        "colab": {
          "base_uri": "https://localhost:8080/"
        },
        "id": "vy4JjyT6_fEW",
        "outputId": "0833062d-e66a-469d-c530-1a46ffa079e4"
      },
      "outputs": [
        {
          "data": {
            "text/plain": [
              "('ner_model_bert\\\\tokenizer_config.json',\n",
              " 'ner_model_bert\\\\special_tokens_map.json',\n",
              " 'ner_model_bert\\\\vocab.txt',\n",
              " 'ner_model_bert\\\\added_tokens.json',\n",
              " 'ner_model_bert\\\\tokenizer.json')"
            ]
          },
          "execution_count": 34,
          "metadata": {},
          "output_type": "execute_result"
        }
      ],
      "source": [
        "trainer.save_model(\"ner_model_bert\")\n",
        "tokenizer.save_pretrained(\"ner_model_bert\")"
      ]
    },
    {
      "cell_type": "markdown",
      "id": "2f8d66a8",
      "metadata": {},
      "source": [
        "## **Inference**"
      ]
    },
    {
      "cell_type": "code",
      "execution_count": 43,
      "id": "e0XzeaQeAIlc",
      "metadata": {
        "id": "e0XzeaQeAIlc"
      },
      "outputs": [
        {
          "name": "stdout",
          "output_type": "stream",
          "text": [
            "Word: Barack Obama, Entity: PERSON, Score: 0.983\n",
            "Word: 23 / 11 / 1990, Entity: DATE, Score: 0.994\n",
            "Word: Hawaii, Entity: GPE, Score: 0.969\n"
          ]
        }
      ],
      "source": [
        "model = AutoModelForTokenClassification.from_pretrained(\"ner_model_bert\")\n",
        "tokenizer = AutoTokenizer.from_pretrained(\"ner_model_bert\")\n",
        "\n",
        "model.config.id2label = idx2tag\n",
        "model.config.label2id = {v: k for k, v in idx2tag.items()}\n",
        "\n",
        "ner_pipeline = pipeline(\"ner\", model=model, tokenizer=tokenizer, aggregation_strategy=\"simple\")\n",
        "\n",
        "sentence = \"Barack Obama was born in 23/11/1990 in Hawaii.\"\n",
        "\n",
        "results = ner_pipeline(sentence)\n",
        "\n",
        "for r in results:\n",
        "    print(f\"Word: {r['word']}, Entity: {r['entity_group']}, Score: {r['score']:.3f}\")"
      ]
    }
  ],
  "metadata": {
    "accelerator": "GPU",
    "colab": {
      "gpuType": "T4",
      "provenance": []
    },
    "kernelspec": {
      "display_name": ".venv",
      "language": "python",
      "name": "python3"
    },
    "language_info": {
      "codemirror_mode": {
        "name": "ipython",
        "version": 3
      },
      "file_extension": ".py",
      "mimetype": "text/x-python",
      "name": "python",
      "nbconvert_exporter": "python",
      "pygments_lexer": "ipython3",
      "version": "3.11.9"
    },
    "widgets": {
      "application/vnd.jupyter.widget-state+json": {
        "06234cc3b5554360a03dfc05e6ffbf45": {
          "model_module": "@jupyter-widgets/controls",
          "model_module_version": "1.5.0",
          "model_name": "HBoxModel",
          "state": {
            "_dom_classes": [],
            "_model_module": "@jupyter-widgets/controls",
            "_model_module_version": "1.5.0",
            "_model_name": "HBoxModel",
            "_view_count": null,
            "_view_module": "@jupyter-widgets/controls",
            "_view_module_version": "1.5.0",
            "_view_name": "HBoxView",
            "box_style": "",
            "children": [
              "IPY_MODEL_65096cc2dc324ed494f45d6428a69157",
              "IPY_MODEL_5d4cbffce0ed48c0baa53019c841ad4b",
              "IPY_MODEL_9cdc3a1b788943a68f6ce0290b716f39"
            ],
            "layout": "IPY_MODEL_0a90d9e7bddc418fba5bfe1b4d424e8d"
          }
        },
        "0623b21f4d9e4829a9b77ec8ad5c8ea2": {
          "model_module": "@jupyter-widgets/controls",
          "model_module_version": "1.5.0",
          "model_name": "DescriptionStyleModel",
          "state": {
            "_model_module": "@jupyter-widgets/controls",
            "_model_module_version": "1.5.0",
            "_model_name": "DescriptionStyleModel",
            "_view_count": null,
            "_view_module": "@jupyter-widgets/base",
            "_view_module_version": "1.2.0",
            "_view_name": "StyleView",
            "description_width": ""
          }
        },
        "08545186fd424bbca48bc285cefab97c": {
          "model_module": "@jupyter-widgets/controls",
          "model_module_version": "1.5.0",
          "model_name": "FloatProgressModel",
          "state": {
            "_dom_classes": [],
            "_model_module": "@jupyter-widgets/controls",
            "_model_module_version": "1.5.0",
            "_model_name": "FloatProgressModel",
            "_view_count": null,
            "_view_module": "@jupyter-widgets/controls",
            "_view_module_version": "1.5.0",
            "_view_name": "ProgressView",
            "bar_style": "success",
            "description": "",
            "description_tooltip": null,
            "layout": "IPY_MODEL_5c3725101622415f9ffa8d5d12f18f01",
            "max": 49,
            "min": 0,
            "orientation": "horizontal",
            "style": "IPY_MODEL_590967be71c149c793b093395d75b08a",
            "value": 49
          }
        },
        "0a90d9e7bddc418fba5bfe1b4d424e8d": {
          "model_module": "@jupyter-widgets/base",
          "model_module_version": "1.2.0",
          "model_name": "LayoutModel",
          "state": {
            "_model_module": "@jupyter-widgets/base",
            "_model_module_version": "1.2.0",
            "_model_name": "LayoutModel",
            "_view_count": null,
            "_view_module": "@jupyter-widgets/base",
            "_view_module_version": "1.2.0",
            "_view_name": "LayoutView",
            "align_content": null,
            "align_items": null,
            "align_self": null,
            "border": null,
            "bottom": null,
            "display": null,
            "flex": null,
            "flex_flow": null,
            "grid_area": null,
            "grid_auto_columns": null,
            "grid_auto_flow": null,
            "grid_auto_rows": null,
            "grid_column": null,
            "grid_gap": null,
            "grid_row": null,
            "grid_template_areas": null,
            "grid_template_columns": null,
            "grid_template_rows": null,
            "height": null,
            "justify_content": null,
            "justify_items": null,
            "left": null,
            "margin": null,
            "max_height": null,
            "max_width": null,
            "min_height": null,
            "min_width": null,
            "object_fit": null,
            "object_position": null,
            "order": null,
            "overflow": null,
            "overflow_x": null,
            "overflow_y": null,
            "padding": null,
            "right": null,
            "top": null,
            "visibility": null,
            "width": null
          }
        },
        "0f18446d66204f2d956b4f9a89a3ff02": {
          "model_module": "@jupyter-widgets/base",
          "model_module_version": "1.2.0",
          "model_name": "LayoutModel",
          "state": {
            "_model_module": "@jupyter-widgets/base",
            "_model_module_version": "1.2.0",
            "_model_name": "LayoutModel",
            "_view_count": null,
            "_view_module": "@jupyter-widgets/base",
            "_view_module_version": "1.2.0",
            "_view_name": "LayoutView",
            "align_content": null,
            "align_items": null,
            "align_self": null,
            "border": null,
            "bottom": null,
            "display": null,
            "flex": null,
            "flex_flow": null,
            "grid_area": null,
            "grid_auto_columns": null,
            "grid_auto_flow": null,
            "grid_auto_rows": null,
            "grid_column": null,
            "grid_gap": null,
            "grid_row": null,
            "grid_template_areas": null,
            "grid_template_columns": null,
            "grid_template_rows": null,
            "height": null,
            "justify_content": null,
            "justify_items": null,
            "left": null,
            "margin": null,
            "max_height": null,
            "max_width": null,
            "min_height": null,
            "min_width": null,
            "object_fit": null,
            "object_position": null,
            "order": null,
            "overflow": null,
            "overflow_x": null,
            "overflow_y": null,
            "padding": null,
            "right": null,
            "top": null,
            "visibility": null,
            "width": null
          }
        },
        "10d53406b4d64a2b9ab76ac4552255ef": {
          "model_module": "@jupyter-widgets/controls",
          "model_module_version": "1.5.0",
          "model_name": "HTMLModel",
          "state": {
            "_dom_classes": [],
            "_model_module": "@jupyter-widgets/controls",
            "_model_module_version": "1.5.0",
            "_model_name": "HTMLModel",
            "_view_count": null,
            "_view_module": "@jupyter-widgets/controls",
            "_view_module_version": "1.5.0",
            "_view_name": "HTMLView",
            "description": "",
            "description_tooltip": null,
            "layout": "IPY_MODEL_a9fdb201b143457e8f2c3bb97ac34de2",
            "placeholder": "​",
            "style": "IPY_MODEL_b1f1f4642f964d57af911d527f64c982",
            "value": " 49.0/49.0 [00:00&lt;00:00, 2.84kB/s]"
          }
        },
        "139895d6fc204937887f5ff6307c0668": {
          "model_module": "@jupyter-widgets/controls",
          "model_module_version": "1.5.0",
          "model_name": "FloatProgressModel",
          "state": {
            "_dom_classes": [],
            "_model_module": "@jupyter-widgets/controls",
            "_model_module_version": "1.5.0",
            "_model_name": "FloatProgressModel",
            "_view_count": null,
            "_view_module": "@jupyter-widgets/controls",
            "_view_module_version": "1.5.0",
            "_view_name": "ProgressView",
            "bar_style": "success",
            "description": "",
            "description_tooltip": null,
            "layout": "IPY_MODEL_67dc63bf0bb14969a9a9d465e88f3adc",
            "max": 115812,
            "min": 0,
            "orientation": "horizontal",
            "style": "IPY_MODEL_ddf182c2c1d7427db3ddc1d5745de02c",
            "value": 115812
          }
        },
        "13ba80a979814838bb0b0a816416dd5f": {
          "model_module": "@jupyter-widgets/controls",
          "model_module_version": "1.5.0",
          "model_name": "HBoxModel",
          "state": {
            "_dom_classes": [],
            "_model_module": "@jupyter-widgets/controls",
            "_model_module_version": "1.5.0",
            "_model_name": "HBoxModel",
            "_view_count": null,
            "_view_module": "@jupyter-widgets/controls",
            "_view_module_version": "1.5.0",
            "_view_name": "HBoxView",
            "box_style": "",
            "children": [
              "IPY_MODEL_b02ea5a512c04040a44649cec22169aa",
              "IPY_MODEL_6d9d51d7d2794c7aafa669a2f1a20434",
              "IPY_MODEL_8a71e82e4f92491e893d19350b14863c"
            ],
            "layout": "IPY_MODEL_53131bb61da8422eaca3046865354b69"
          }
        },
        "16666c7e864c4b11bb837acd8b128da9": {
          "model_module": "@jupyter-widgets/controls",
          "model_module_version": "1.5.0",
          "model_name": "HTMLModel",
          "state": {
            "_dom_classes": [],
            "_model_module": "@jupyter-widgets/controls",
            "_model_module_version": "1.5.0",
            "_model_name": "HTMLModel",
            "_view_count": null,
            "_view_module": "@jupyter-widgets/controls",
            "_view_module_version": "1.5.0",
            "_view_name": "HTMLView",
            "description": "",
            "description_tooltip": null,
            "layout": "IPY_MODEL_754bcbfbf71e41db9f666718aaf31b60",
            "placeholder": "​",
            "style": "IPY_MODEL_f19dfb69392a4a959b3b38c148afc759",
            "value": "Map: 100%"
          }
        },
        "1c57d85357294a0f995c669ef34249c8": {
          "model_module": "@jupyter-widgets/base",
          "model_module_version": "1.2.0",
          "model_name": "LayoutModel",
          "state": {
            "_model_module": "@jupyter-widgets/base",
            "_model_module_version": "1.2.0",
            "_model_name": "LayoutModel",
            "_view_count": null,
            "_view_module": "@jupyter-widgets/base",
            "_view_module_version": "1.2.0",
            "_view_name": "LayoutView",
            "align_content": null,
            "align_items": null,
            "align_self": null,
            "border": null,
            "bottom": null,
            "display": null,
            "flex": null,
            "flex_flow": null,
            "grid_area": null,
            "grid_auto_columns": null,
            "grid_auto_flow": null,
            "grid_auto_rows": null,
            "grid_column": null,
            "grid_gap": null,
            "grid_row": null,
            "grid_template_areas": null,
            "grid_template_columns": null,
            "grid_template_rows": null,
            "height": null,
            "justify_content": null,
            "justify_items": null,
            "left": null,
            "margin": null,
            "max_height": null,
            "max_width": null,
            "min_height": null,
            "min_width": null,
            "object_fit": null,
            "object_position": null,
            "order": null,
            "overflow": null,
            "overflow_x": null,
            "overflow_y": null,
            "padding": null,
            "right": null,
            "top": null,
            "visibility": null,
            "width": null
          }
        },
        "22821ce9d0104e919857ce816cfee688": {
          "model_module": "@jupyter-widgets/controls",
          "model_module_version": "1.5.0",
          "model_name": "HTMLModel",
          "state": {
            "_dom_classes": [],
            "_model_module": "@jupyter-widgets/controls",
            "_model_module_version": "1.5.0",
            "_model_name": "HTMLModel",
            "_view_count": null,
            "_view_module": "@jupyter-widgets/controls",
            "_view_module_version": "1.5.0",
            "_view_name": "HTMLView",
            "description": "",
            "description_tooltip": null,
            "layout": "IPY_MODEL_4d12e8edb704422bae2e94edaef69248",
            "placeholder": "​",
            "style": "IPY_MODEL_5114227991954648a05f455492679c6c",
            "value": "vocab.txt: 100%"
          }
        },
        "23f2c3d6b3b24ee3a17c060d4ff32118": {
          "model_module": "@jupyter-widgets/base",
          "model_module_version": "1.2.0",
          "model_name": "LayoutModel",
          "state": {
            "_model_module": "@jupyter-widgets/base",
            "_model_module_version": "1.2.0",
            "_model_name": "LayoutModel",
            "_view_count": null,
            "_view_module": "@jupyter-widgets/base",
            "_view_module_version": "1.2.0",
            "_view_name": "LayoutView",
            "align_content": null,
            "align_items": null,
            "align_self": null,
            "border": null,
            "bottom": null,
            "display": null,
            "flex": null,
            "flex_flow": null,
            "grid_area": null,
            "grid_auto_columns": null,
            "grid_auto_flow": null,
            "grid_auto_rows": null,
            "grid_column": null,
            "grid_gap": null,
            "grid_row": null,
            "grid_template_areas": null,
            "grid_template_columns": null,
            "grid_template_rows": null,
            "height": null,
            "justify_content": null,
            "justify_items": null,
            "left": null,
            "margin": null,
            "max_height": null,
            "max_width": null,
            "min_height": null,
            "min_width": null,
            "object_fit": null,
            "object_position": null,
            "order": null,
            "overflow": null,
            "overflow_x": null,
            "overflow_y": null,
            "padding": null,
            "right": null,
            "top": null,
            "visibility": null,
            "width": null
          }
        },
        "2945249997e94a57a34394011743eeda": {
          "model_module": "@jupyter-widgets/base",
          "model_module_version": "1.2.0",
          "model_name": "LayoutModel",
          "state": {
            "_model_module": "@jupyter-widgets/base",
            "_model_module_version": "1.2.0",
            "_model_name": "LayoutModel",
            "_view_count": null,
            "_view_module": "@jupyter-widgets/base",
            "_view_module_version": "1.2.0",
            "_view_name": "LayoutView",
            "align_content": null,
            "align_items": null,
            "align_self": null,
            "border": null,
            "bottom": null,
            "display": null,
            "flex": null,
            "flex_flow": null,
            "grid_area": null,
            "grid_auto_columns": null,
            "grid_auto_flow": null,
            "grid_auto_rows": null,
            "grid_column": null,
            "grid_gap": null,
            "grid_row": null,
            "grid_template_areas": null,
            "grid_template_columns": null,
            "grid_template_rows": null,
            "height": null,
            "justify_content": null,
            "justify_items": null,
            "left": null,
            "margin": null,
            "max_height": null,
            "max_width": null,
            "min_height": null,
            "min_width": null,
            "object_fit": null,
            "object_position": null,
            "order": null,
            "overflow": null,
            "overflow_x": null,
            "overflow_y": null,
            "padding": null,
            "right": null,
            "top": null,
            "visibility": null,
            "width": null
          }
        },
        "2a5f480dea404427b4b6faeb286457ee": {
          "model_module": "@jupyter-widgets/controls",
          "model_module_version": "1.5.0",
          "model_name": "FloatProgressModel",
          "state": {
            "_dom_classes": [],
            "_model_module": "@jupyter-widgets/controls",
            "_model_module_version": "1.5.0",
            "_model_name": "FloatProgressModel",
            "_view_count": null,
            "_view_module": "@jupyter-widgets/controls",
            "_view_module_version": "1.5.0",
            "_view_name": "ProgressView",
            "bar_style": "success",
            "description": "",
            "description_tooltip": null,
            "layout": "IPY_MODEL_641a0a267de24e2e9a729acd06887c6b",
            "max": 213450,
            "min": 0,
            "orientation": "horizontal",
            "style": "IPY_MODEL_d38a18219a424a4abf1beebd05ff99fa",
            "value": 213450
          }
        },
        "2b595d326f0d4472b585dca379e13bd7": {
          "model_module": "@jupyter-widgets/base",
          "model_module_version": "1.2.0",
          "model_name": "LayoutModel",
          "state": {
            "_model_module": "@jupyter-widgets/base",
            "_model_module_version": "1.2.0",
            "_model_name": "LayoutModel",
            "_view_count": null,
            "_view_module": "@jupyter-widgets/base",
            "_view_module_version": "1.2.0",
            "_view_name": "LayoutView",
            "align_content": null,
            "align_items": null,
            "align_self": null,
            "border": null,
            "bottom": null,
            "display": null,
            "flex": null,
            "flex_flow": null,
            "grid_area": null,
            "grid_auto_columns": null,
            "grid_auto_flow": null,
            "grid_auto_rows": null,
            "grid_column": null,
            "grid_gap": null,
            "grid_row": null,
            "grid_template_areas": null,
            "grid_template_columns": null,
            "grid_template_rows": null,
            "height": null,
            "justify_content": null,
            "justify_items": null,
            "left": null,
            "margin": null,
            "max_height": null,
            "max_width": null,
            "min_height": null,
            "min_width": null,
            "object_fit": null,
            "object_position": null,
            "order": null,
            "overflow": null,
            "overflow_x": null,
            "overflow_y": null,
            "padding": null,
            "right": null,
            "top": null,
            "visibility": null,
            "width": null
          }
        },
        "2ce26db841f446f6b569cc93716b18e8": {
          "model_module": "@jupyter-widgets/controls",
          "model_module_version": "1.5.0",
          "model_name": "HTMLModel",
          "state": {
            "_dom_classes": [],
            "_model_module": "@jupyter-widgets/controls",
            "_model_module_version": "1.5.0",
            "_model_name": "HTMLModel",
            "_view_count": null,
            "_view_module": "@jupyter-widgets/controls",
            "_view_module_version": "1.5.0",
            "_view_name": "HTMLView",
            "description": "",
            "description_tooltip": null,
            "layout": "IPY_MODEL_3047a14c29124aa380b6a782b5d392f1",
            "placeholder": "​",
            "style": "IPY_MODEL_849037a7d5be4f3687f23d87f1deb995",
            "value": " 436M/436M [00:07&lt;00:00, 85.4MB/s]"
          }
        },
        "2d03139797d145dbbfbac80c7edf354c": {
          "model_module": "@jupyter-widgets/base",
          "model_module_version": "1.2.0",
          "model_name": "LayoutModel",
          "state": {
            "_model_module": "@jupyter-widgets/base",
            "_model_module_version": "1.2.0",
            "_model_name": "LayoutModel",
            "_view_count": null,
            "_view_module": "@jupyter-widgets/base",
            "_view_module_version": "1.2.0",
            "_view_name": "LayoutView",
            "align_content": null,
            "align_items": null,
            "align_self": null,
            "border": null,
            "bottom": null,
            "display": null,
            "flex": null,
            "flex_flow": null,
            "grid_area": null,
            "grid_auto_columns": null,
            "grid_auto_flow": null,
            "grid_auto_rows": null,
            "grid_column": null,
            "grid_gap": null,
            "grid_row": null,
            "grid_template_areas": null,
            "grid_template_columns": null,
            "grid_template_rows": null,
            "height": null,
            "justify_content": null,
            "justify_items": null,
            "left": null,
            "margin": null,
            "max_height": null,
            "max_width": null,
            "min_height": null,
            "min_width": null,
            "object_fit": null,
            "object_position": null,
            "order": null,
            "overflow": null,
            "overflow_x": null,
            "overflow_y": null,
            "padding": null,
            "right": null,
            "top": null,
            "visibility": null,
            "width": null
          }
        },
        "3047a14c29124aa380b6a782b5d392f1": {
          "model_module": "@jupyter-widgets/base",
          "model_module_version": "1.2.0",
          "model_name": "LayoutModel",
          "state": {
            "_model_module": "@jupyter-widgets/base",
            "_model_module_version": "1.2.0",
            "_model_name": "LayoutModel",
            "_view_count": null,
            "_view_module": "@jupyter-widgets/base",
            "_view_module_version": "1.2.0",
            "_view_name": "LayoutView",
            "align_content": null,
            "align_items": null,
            "align_self": null,
            "border": null,
            "bottom": null,
            "display": null,
            "flex": null,
            "flex_flow": null,
            "grid_area": null,
            "grid_auto_columns": null,
            "grid_auto_flow": null,
            "grid_auto_rows": null,
            "grid_column": null,
            "grid_gap": null,
            "grid_row": null,
            "grid_template_areas": null,
            "grid_template_columns": null,
            "grid_template_rows": null,
            "height": null,
            "justify_content": null,
            "justify_items": null,
            "left": null,
            "margin": null,
            "max_height": null,
            "max_width": null,
            "min_height": null,
            "min_width": null,
            "object_fit": null,
            "object_position": null,
            "order": null,
            "overflow": null,
            "overflow_x": null,
            "overflow_y": null,
            "padding": null,
            "right": null,
            "top": null,
            "visibility": null,
            "width": null
          }
        },
        "309290f7f6d04aebb83d4ef06e4f22c5": {
          "model_module": "@jupyter-widgets/controls",
          "model_module_version": "1.5.0",
          "model_name": "HTMLModel",
          "state": {
            "_dom_classes": [],
            "_model_module": "@jupyter-widgets/controls",
            "_model_module_version": "1.5.0",
            "_model_name": "HTMLModel",
            "_view_count": null,
            "_view_module": "@jupyter-widgets/controls",
            "_view_module_version": "1.5.0",
            "_view_name": "HTMLView",
            "description": "",
            "description_tooltip": null,
            "layout": "IPY_MODEL_8ed18f8176b44f31a4be5f2fba0ebf84",
            "placeholder": "​",
            "style": "IPY_MODEL_cecb73e020114e17a4ac827aec352ad4",
            "value": " 115812/115812 [01:04&lt;00:00, 1429.91 examples/s]"
          }
        },
        "3874a49922d44c5385a3d62549c3c8d1": {
          "model_module": "@jupyter-widgets/controls",
          "model_module_version": "1.5.0",
          "model_name": "ProgressStyleModel",
          "state": {
            "_model_module": "@jupyter-widgets/controls",
            "_model_module_version": "1.5.0",
            "_model_name": "ProgressStyleModel",
            "_view_count": null,
            "_view_module": "@jupyter-widgets/base",
            "_view_module_version": "1.2.0",
            "_view_name": "StyleView",
            "bar_color": null,
            "description_width": ""
          }
        },
        "461eb48f6e2246988d7166282150c9e5": {
          "model_module": "@jupyter-widgets/controls",
          "model_module_version": "1.5.0",
          "model_name": "DescriptionStyleModel",
          "state": {
            "_model_module": "@jupyter-widgets/controls",
            "_model_module_version": "1.5.0",
            "_model_name": "DescriptionStyleModel",
            "_view_count": null,
            "_view_module": "@jupyter-widgets/base",
            "_view_module_version": "1.2.0",
            "_view_name": "StyleView",
            "description_width": ""
          }
        },
        "466b2d1999c64bfeb1e6b1aecc4f1d78": {
          "model_module": "@jupyter-widgets/base",
          "model_module_version": "1.2.0",
          "model_name": "LayoutModel",
          "state": {
            "_model_module": "@jupyter-widgets/base",
            "_model_module_version": "1.2.0",
            "_model_name": "LayoutModel",
            "_view_count": null,
            "_view_module": "@jupyter-widgets/base",
            "_view_module_version": "1.2.0",
            "_view_name": "LayoutView",
            "align_content": null,
            "align_items": null,
            "align_self": null,
            "border": null,
            "bottom": null,
            "display": null,
            "flex": null,
            "flex_flow": null,
            "grid_area": null,
            "grid_auto_columns": null,
            "grid_auto_flow": null,
            "grid_auto_rows": null,
            "grid_column": null,
            "grid_gap": null,
            "grid_row": null,
            "grid_template_areas": null,
            "grid_template_columns": null,
            "grid_template_rows": null,
            "height": null,
            "justify_content": null,
            "justify_items": null,
            "left": null,
            "margin": null,
            "max_height": null,
            "max_width": null,
            "min_height": null,
            "min_width": null,
            "object_fit": null,
            "object_position": null,
            "order": null,
            "overflow": null,
            "overflow_x": null,
            "overflow_y": null,
            "padding": null,
            "right": null,
            "top": null,
            "visibility": null,
            "width": null
          }
        },
        "46ae2614913b44668fd6acf68e7196c9": {
          "model_module": "@jupyter-widgets/controls",
          "model_module_version": "1.5.0",
          "model_name": "FloatProgressModel",
          "state": {
            "_dom_classes": [],
            "_model_module": "@jupyter-widgets/controls",
            "_model_module_version": "1.5.0",
            "_model_name": "FloatProgressModel",
            "_view_count": null,
            "_view_module": "@jupyter-widgets/controls",
            "_view_module_version": "1.5.0",
            "_view_name": "ProgressView",
            "bar_style": "success",
            "description": "",
            "description_tooltip": null,
            "layout": "IPY_MODEL_cf159a266bfa483ea24917b59eec5c53",
            "max": 435797,
            "min": 0,
            "orientation": "horizontal",
            "style": "IPY_MODEL_e4c87c63f22f41c09649f2b08fafded2",
            "value": 435797
          }
        },
        "4d12e8edb704422bae2e94edaef69248": {
          "model_module": "@jupyter-widgets/base",
          "model_module_version": "1.2.0",
          "model_name": "LayoutModel",
          "state": {
            "_model_module": "@jupyter-widgets/base",
            "_model_module_version": "1.2.0",
            "_model_name": "LayoutModel",
            "_view_count": null,
            "_view_module": "@jupyter-widgets/base",
            "_view_module_version": "1.2.0",
            "_view_name": "LayoutView",
            "align_content": null,
            "align_items": null,
            "align_self": null,
            "border": null,
            "bottom": null,
            "display": null,
            "flex": null,
            "flex_flow": null,
            "grid_area": null,
            "grid_auto_columns": null,
            "grid_auto_flow": null,
            "grid_auto_rows": null,
            "grid_column": null,
            "grid_gap": null,
            "grid_row": null,
            "grid_template_areas": null,
            "grid_template_columns": null,
            "grid_template_rows": null,
            "height": null,
            "justify_content": null,
            "justify_items": null,
            "left": null,
            "margin": null,
            "max_height": null,
            "max_width": null,
            "min_height": null,
            "min_width": null,
            "object_fit": null,
            "object_position": null,
            "order": null,
            "overflow": null,
            "overflow_x": null,
            "overflow_y": null,
            "padding": null,
            "right": null,
            "top": null,
            "visibility": null,
            "width": null
          }
        },
        "4d86fb49644a47f8a7d44f9b31f1a401": {
          "model_module": "@jupyter-widgets/controls",
          "model_module_version": "1.5.0",
          "model_name": "DescriptionStyleModel",
          "state": {
            "_model_module": "@jupyter-widgets/controls",
            "_model_module_version": "1.5.0",
            "_model_name": "DescriptionStyleModel",
            "_view_count": null,
            "_view_module": "@jupyter-widgets/base",
            "_view_module_version": "1.2.0",
            "_view_name": "StyleView",
            "description_width": ""
          }
        },
        "5114227991954648a05f455492679c6c": {
          "model_module": "@jupyter-widgets/controls",
          "model_module_version": "1.5.0",
          "model_name": "DescriptionStyleModel",
          "state": {
            "_model_module": "@jupyter-widgets/controls",
            "_model_module_version": "1.5.0",
            "_model_name": "DescriptionStyleModel",
            "_view_count": null,
            "_view_module": "@jupyter-widgets/base",
            "_view_module_version": "1.2.0",
            "_view_name": "StyleView",
            "description_width": ""
          }
        },
        "53131bb61da8422eaca3046865354b69": {
          "model_module": "@jupyter-widgets/base",
          "model_module_version": "1.2.0",
          "model_name": "LayoutModel",
          "state": {
            "_model_module": "@jupyter-widgets/base",
            "_model_module_version": "1.2.0",
            "_model_name": "LayoutModel",
            "_view_count": null,
            "_view_module": "@jupyter-widgets/base",
            "_view_module_version": "1.2.0",
            "_view_name": "LayoutView",
            "align_content": null,
            "align_items": null,
            "align_self": null,
            "border": null,
            "bottom": null,
            "display": null,
            "flex": null,
            "flex_flow": null,
            "grid_area": null,
            "grid_auto_columns": null,
            "grid_auto_flow": null,
            "grid_auto_rows": null,
            "grid_column": null,
            "grid_gap": null,
            "grid_row": null,
            "grid_template_areas": null,
            "grid_template_columns": null,
            "grid_template_rows": null,
            "height": null,
            "justify_content": null,
            "justify_items": null,
            "left": null,
            "margin": null,
            "max_height": null,
            "max_width": null,
            "min_height": null,
            "min_width": null,
            "object_fit": null,
            "object_position": null,
            "order": null,
            "overflow": null,
            "overflow_x": null,
            "overflow_y": null,
            "padding": null,
            "right": null,
            "top": null,
            "visibility": null,
            "width": null
          }
        },
        "55ab4462b0f0487c80f6aa565ac4e94a": {
          "model_module": "@jupyter-widgets/controls",
          "model_module_version": "1.5.0",
          "model_name": "HBoxModel",
          "state": {
            "_dom_classes": [],
            "_model_module": "@jupyter-widgets/controls",
            "_model_module_version": "1.5.0",
            "_model_name": "HBoxModel",
            "_view_count": null,
            "_view_module": "@jupyter-widgets/controls",
            "_view_module_version": "1.5.0",
            "_view_name": "HBoxView",
            "box_style": "",
            "children": [
              "IPY_MODEL_7ae196bc221d4dbe980b6e4aa4fc0e87",
              "IPY_MODEL_08545186fd424bbca48bc285cefab97c",
              "IPY_MODEL_10d53406b4d64a2b9ab76ac4552255ef"
            ],
            "layout": "IPY_MODEL_0f18446d66204f2d956b4f9a89a3ff02"
          }
        },
        "58c5cc168aa24e4391780d54c6d480b3": {
          "model_module": "@jupyter-widgets/controls",
          "model_module_version": "1.5.0",
          "model_name": "HBoxModel",
          "state": {
            "_dom_classes": [],
            "_model_module": "@jupyter-widgets/controls",
            "_model_module_version": "1.5.0",
            "_model_name": "HBoxModel",
            "_view_count": null,
            "_view_module": "@jupyter-widgets/controls",
            "_view_module_version": "1.5.0",
            "_view_name": "HBoxView",
            "box_style": "",
            "children": [
              "IPY_MODEL_b703a414c8f14d99a1b2a355a833daa1",
              "IPY_MODEL_139895d6fc204937887f5ff6307c0668",
              "IPY_MODEL_309290f7f6d04aebb83d4ef06e4f22c5"
            ],
            "layout": "IPY_MODEL_2d03139797d145dbbfbac80c7edf354c"
          }
        },
        "590967be71c149c793b093395d75b08a": {
          "model_module": "@jupyter-widgets/controls",
          "model_module_version": "1.5.0",
          "model_name": "ProgressStyleModel",
          "state": {
            "_model_module": "@jupyter-widgets/controls",
            "_model_module_version": "1.5.0",
            "_model_name": "ProgressStyleModel",
            "_view_count": null,
            "_view_module": "@jupyter-widgets/base",
            "_view_module_version": "1.2.0",
            "_view_name": "StyleView",
            "bar_color": null,
            "description_width": ""
          }
        },
        "5b63aece880e4be7aba7c2ac7c2182f8": {
          "model_module": "@jupyter-widgets/controls",
          "model_module_version": "1.5.0",
          "model_name": "HTMLModel",
          "state": {
            "_dom_classes": [],
            "_model_module": "@jupyter-widgets/controls",
            "_model_module_version": "1.5.0",
            "_model_name": "HTMLModel",
            "_view_count": null,
            "_view_module": "@jupyter-widgets/controls",
            "_view_module_version": "1.5.0",
            "_view_name": "HTMLView",
            "description": "",
            "description_tooltip": null,
            "layout": "IPY_MODEL_cb3c4d9fc6e142e9b3e2e07560f15599",
            "placeholder": "​",
            "style": "IPY_MODEL_0623b21f4d9e4829a9b77ec8ad5c8ea2",
            "value": " 15680/15680 [00:07&lt;00:00, 1919.21 examples/s]"
          }
        },
        "5c3725101622415f9ffa8d5d12f18f01": {
          "model_module": "@jupyter-widgets/base",
          "model_module_version": "1.2.0",
          "model_name": "LayoutModel",
          "state": {
            "_model_module": "@jupyter-widgets/base",
            "_model_module_version": "1.2.0",
            "_model_name": "LayoutModel",
            "_view_count": null,
            "_view_module": "@jupyter-widgets/base",
            "_view_module_version": "1.2.0",
            "_view_name": "LayoutView",
            "align_content": null,
            "align_items": null,
            "align_self": null,
            "border": null,
            "bottom": null,
            "display": null,
            "flex": null,
            "flex_flow": null,
            "grid_area": null,
            "grid_auto_columns": null,
            "grid_auto_flow": null,
            "grid_auto_rows": null,
            "grid_column": null,
            "grid_gap": null,
            "grid_row": null,
            "grid_template_areas": null,
            "grid_template_columns": null,
            "grid_template_rows": null,
            "height": null,
            "justify_content": null,
            "justify_items": null,
            "left": null,
            "margin": null,
            "max_height": null,
            "max_width": null,
            "min_height": null,
            "min_width": null,
            "object_fit": null,
            "object_position": null,
            "order": null,
            "overflow": null,
            "overflow_x": null,
            "overflow_y": null,
            "padding": null,
            "right": null,
            "top": null,
            "visibility": null,
            "width": null
          }
        },
        "5d4cbffce0ed48c0baa53019c841ad4b": {
          "model_module": "@jupyter-widgets/controls",
          "model_module_version": "1.5.0",
          "model_name": "FloatProgressModel",
          "state": {
            "_dom_classes": [],
            "_model_module": "@jupyter-widgets/controls",
            "_model_module_version": "1.5.0",
            "_model_name": "FloatProgressModel",
            "_view_count": null,
            "_view_module": "@jupyter-widgets/controls",
            "_view_module_version": "1.5.0",
            "_view_name": "ProgressView",
            "bar_style": "success",
            "description": "",
            "description_tooltip": null,
            "layout": "IPY_MODEL_b2a237a084164a839e9fcf9bb4b455d0",
            "max": 12217,
            "min": 0,
            "orientation": "horizontal",
            "style": "IPY_MODEL_fac8acd418264ec982134c7ba96d60a6",
            "value": 12217
          }
        },
        "5e2959e6e356431fa3add21325fd2f09": {
          "model_module": "@jupyter-widgets/base",
          "model_module_version": "1.2.0",
          "model_name": "LayoutModel",
          "state": {
            "_model_module": "@jupyter-widgets/base",
            "_model_module_version": "1.2.0",
            "_model_name": "LayoutModel",
            "_view_count": null,
            "_view_module": "@jupyter-widgets/base",
            "_view_module_version": "1.2.0",
            "_view_name": "LayoutView",
            "align_content": null,
            "align_items": null,
            "align_self": null,
            "border": null,
            "bottom": null,
            "display": null,
            "flex": null,
            "flex_flow": null,
            "grid_area": null,
            "grid_auto_columns": null,
            "grid_auto_flow": null,
            "grid_auto_rows": null,
            "grid_column": null,
            "grid_gap": null,
            "grid_row": null,
            "grid_template_areas": null,
            "grid_template_columns": null,
            "grid_template_rows": null,
            "height": null,
            "justify_content": null,
            "justify_items": null,
            "left": null,
            "margin": null,
            "max_height": null,
            "max_width": null,
            "min_height": null,
            "min_width": null,
            "object_fit": null,
            "object_position": null,
            "order": null,
            "overflow": null,
            "overflow_x": null,
            "overflow_y": null,
            "padding": null,
            "right": null,
            "top": null,
            "visibility": null,
            "width": null
          }
        },
        "6091d957417c4148b8662fa0e39a05b1": {
          "model_module": "@jupyter-widgets/base",
          "model_module_version": "1.2.0",
          "model_name": "LayoutModel",
          "state": {
            "_model_module": "@jupyter-widgets/base",
            "_model_module_version": "1.2.0",
            "_model_name": "LayoutModel",
            "_view_count": null,
            "_view_module": "@jupyter-widgets/base",
            "_view_module_version": "1.2.0",
            "_view_name": "LayoutView",
            "align_content": null,
            "align_items": null,
            "align_self": null,
            "border": null,
            "bottom": null,
            "display": null,
            "flex": null,
            "flex_flow": null,
            "grid_area": null,
            "grid_auto_columns": null,
            "grid_auto_flow": null,
            "grid_auto_rows": null,
            "grid_column": null,
            "grid_gap": null,
            "grid_row": null,
            "grid_template_areas": null,
            "grid_template_columns": null,
            "grid_template_rows": null,
            "height": null,
            "justify_content": null,
            "justify_items": null,
            "left": null,
            "margin": null,
            "max_height": null,
            "max_width": null,
            "min_height": null,
            "min_width": null,
            "object_fit": null,
            "object_position": null,
            "order": null,
            "overflow": null,
            "overflow_x": null,
            "overflow_y": null,
            "padding": null,
            "right": null,
            "top": null,
            "visibility": null,
            "width": null
          }
        },
        "60e7056a242344a796674f98ae48c7dc": {
          "model_module": "@jupyter-widgets/controls",
          "model_module_version": "1.5.0",
          "model_name": "HTMLModel",
          "state": {
            "_dom_classes": [],
            "_model_module": "@jupyter-widgets/controls",
            "_model_module_version": "1.5.0",
            "_model_name": "HTMLModel",
            "_view_count": null,
            "_view_module": "@jupyter-widgets/controls",
            "_view_module_version": "1.5.0",
            "_view_name": "HTMLView",
            "description": "",
            "description_tooltip": null,
            "layout": "IPY_MODEL_c80e596982184240bcc5de4b33814701",
            "placeholder": "​",
            "style": "IPY_MODEL_879120876fcd4f2f9652b6e311b01841",
            "value": " 213k/213k [00:00&lt;00:00, 5.17MB/s]"
          }
        },
        "617fa92766e54fb9967e59ece4f34f44": {
          "model_module": "@jupyter-widgets/controls",
          "model_module_version": "1.5.0",
          "model_name": "ProgressStyleModel",
          "state": {
            "_model_module": "@jupyter-widgets/controls",
            "_model_module_version": "1.5.0",
            "_model_name": "ProgressStyleModel",
            "_view_count": null,
            "_view_module": "@jupyter-widgets/base",
            "_view_module_version": "1.2.0",
            "_view_name": "StyleView",
            "bar_color": null,
            "description_width": ""
          }
        },
        "641a0a267de24e2e9a729acd06887c6b": {
          "model_module": "@jupyter-widgets/base",
          "model_module_version": "1.2.0",
          "model_name": "LayoutModel",
          "state": {
            "_model_module": "@jupyter-widgets/base",
            "_model_module_version": "1.2.0",
            "_model_name": "LayoutModel",
            "_view_count": null,
            "_view_module": "@jupyter-widgets/base",
            "_view_module_version": "1.2.0",
            "_view_name": "LayoutView",
            "align_content": null,
            "align_items": null,
            "align_self": null,
            "border": null,
            "bottom": null,
            "display": null,
            "flex": null,
            "flex_flow": null,
            "grid_area": null,
            "grid_auto_columns": null,
            "grid_auto_flow": null,
            "grid_auto_rows": null,
            "grid_column": null,
            "grid_gap": null,
            "grid_row": null,
            "grid_template_areas": null,
            "grid_template_columns": null,
            "grid_template_rows": null,
            "height": null,
            "justify_content": null,
            "justify_items": null,
            "left": null,
            "margin": null,
            "max_height": null,
            "max_width": null,
            "min_height": null,
            "min_width": null,
            "object_fit": null,
            "object_position": null,
            "order": null,
            "overflow": null,
            "overflow_x": null,
            "overflow_y": null,
            "padding": null,
            "right": null,
            "top": null,
            "visibility": null,
            "width": null
          }
        },
        "65096cc2dc324ed494f45d6428a69157": {
          "model_module": "@jupyter-widgets/controls",
          "model_module_version": "1.5.0",
          "model_name": "HTMLModel",
          "state": {
            "_dom_classes": [],
            "_model_module": "@jupyter-widgets/controls",
            "_model_module_version": "1.5.0",
            "_model_name": "HTMLModel",
            "_view_count": null,
            "_view_module": "@jupyter-widgets/controls",
            "_view_module_version": "1.5.0",
            "_view_name": "HTMLView",
            "description": "",
            "description_tooltip": null,
            "layout": "IPY_MODEL_23f2c3d6b3b24ee3a17c060d4ff32118",
            "placeholder": "​",
            "style": "IPY_MODEL_cf7d97ce25214c12808db6d9d466ee11",
            "value": "Map: 100%"
          }
        },
        "65dab50fa35b4e678b7c338e6a079803": {
          "model_module": "@jupyter-widgets/base",
          "model_module_version": "1.2.0",
          "model_name": "LayoutModel",
          "state": {
            "_model_module": "@jupyter-widgets/base",
            "_model_module_version": "1.2.0",
            "_model_name": "LayoutModel",
            "_view_count": null,
            "_view_module": "@jupyter-widgets/base",
            "_view_module_version": "1.2.0",
            "_view_name": "LayoutView",
            "align_content": null,
            "align_items": null,
            "align_self": null,
            "border": null,
            "bottom": null,
            "display": null,
            "flex": null,
            "flex_flow": null,
            "grid_area": null,
            "grid_auto_columns": null,
            "grid_auto_flow": null,
            "grid_auto_rows": null,
            "grid_column": null,
            "grid_gap": null,
            "grid_row": null,
            "grid_template_areas": null,
            "grid_template_columns": null,
            "grid_template_rows": null,
            "height": null,
            "justify_content": null,
            "justify_items": null,
            "left": null,
            "margin": null,
            "max_height": null,
            "max_width": null,
            "min_height": null,
            "min_width": null,
            "object_fit": null,
            "object_position": null,
            "order": null,
            "overflow": null,
            "overflow_x": null,
            "overflow_y": null,
            "padding": null,
            "right": null,
            "top": null,
            "visibility": null,
            "width": null
          }
        },
        "67dc63bf0bb14969a9a9d465e88f3adc": {
          "model_module": "@jupyter-widgets/base",
          "model_module_version": "1.2.0",
          "model_name": "LayoutModel",
          "state": {
            "_model_module": "@jupyter-widgets/base",
            "_model_module_version": "1.2.0",
            "_model_name": "LayoutModel",
            "_view_count": null,
            "_view_module": "@jupyter-widgets/base",
            "_view_module_version": "1.2.0",
            "_view_name": "LayoutView",
            "align_content": null,
            "align_items": null,
            "align_self": null,
            "border": null,
            "bottom": null,
            "display": null,
            "flex": null,
            "flex_flow": null,
            "grid_area": null,
            "grid_auto_columns": null,
            "grid_auto_flow": null,
            "grid_auto_rows": null,
            "grid_column": null,
            "grid_gap": null,
            "grid_row": null,
            "grid_template_areas": null,
            "grid_template_columns": null,
            "grid_template_rows": null,
            "height": null,
            "justify_content": null,
            "justify_items": null,
            "left": null,
            "margin": null,
            "max_height": null,
            "max_width": null,
            "min_height": null,
            "min_width": null,
            "object_fit": null,
            "object_position": null,
            "order": null,
            "overflow": null,
            "overflow_x": null,
            "overflow_y": null,
            "padding": null,
            "right": null,
            "top": null,
            "visibility": null,
            "width": null
          }
        },
        "6d9d51d7d2794c7aafa669a2f1a20434": {
          "model_module": "@jupyter-widgets/controls",
          "model_module_version": "1.5.0",
          "model_name": "FloatProgressModel",
          "state": {
            "_dom_classes": [],
            "_model_module": "@jupyter-widgets/controls",
            "_model_module_version": "1.5.0",
            "_model_name": "FloatProgressModel",
            "_view_count": null,
            "_view_module": "@jupyter-widgets/controls",
            "_view_module_version": "1.5.0",
            "_view_name": "ProgressView",
            "bar_style": "success",
            "description": "",
            "description_tooltip": null,
            "layout": "IPY_MODEL_2945249997e94a57a34394011743eeda",
            "max": 570,
            "min": 0,
            "orientation": "horizontal",
            "style": "IPY_MODEL_617fa92766e54fb9967e59ece4f34f44",
            "value": 570
          }
        },
        "6f81eda65a3c485a8c7df60b9be08adf": {
          "model_module": "@jupyter-widgets/controls",
          "model_module_version": "1.5.0",
          "model_name": "HBoxModel",
          "state": {
            "_dom_classes": [],
            "_model_module": "@jupyter-widgets/controls",
            "_model_module_version": "1.5.0",
            "_model_name": "HBoxModel",
            "_view_count": null,
            "_view_module": "@jupyter-widgets/controls",
            "_view_module_version": "1.5.0",
            "_view_name": "HBoxView",
            "box_style": "",
            "children": [
              "IPY_MODEL_16666c7e864c4b11bb837acd8b128da9",
              "IPY_MODEL_814d1d3a77824acaa966f50954c0bd28",
              "IPY_MODEL_5b63aece880e4be7aba7c2ac7c2182f8"
            ],
            "layout": "IPY_MODEL_2b595d326f0d4472b585dca379e13bd7"
          }
        },
        "754bcbfbf71e41db9f666718aaf31b60": {
          "model_module": "@jupyter-widgets/base",
          "model_module_version": "1.2.0",
          "model_name": "LayoutModel",
          "state": {
            "_model_module": "@jupyter-widgets/base",
            "_model_module_version": "1.2.0",
            "_model_name": "LayoutModel",
            "_view_count": null,
            "_view_module": "@jupyter-widgets/base",
            "_view_module_version": "1.2.0",
            "_view_name": "LayoutView",
            "align_content": null,
            "align_items": null,
            "align_self": null,
            "border": null,
            "bottom": null,
            "display": null,
            "flex": null,
            "flex_flow": null,
            "grid_area": null,
            "grid_auto_columns": null,
            "grid_auto_flow": null,
            "grid_auto_rows": null,
            "grid_column": null,
            "grid_gap": null,
            "grid_row": null,
            "grid_template_areas": null,
            "grid_template_columns": null,
            "grid_template_rows": null,
            "height": null,
            "justify_content": null,
            "justify_items": null,
            "left": null,
            "margin": null,
            "max_height": null,
            "max_width": null,
            "min_height": null,
            "min_width": null,
            "object_fit": null,
            "object_position": null,
            "order": null,
            "overflow": null,
            "overflow_x": null,
            "overflow_y": null,
            "padding": null,
            "right": null,
            "top": null,
            "visibility": null,
            "width": null
          }
        },
        "7771530469d4439095fd4338a625dd52": {
          "model_module": "@jupyter-widgets/controls",
          "model_module_version": "1.5.0",
          "model_name": "DescriptionStyleModel",
          "state": {
            "_model_module": "@jupyter-widgets/controls",
            "_model_module_version": "1.5.0",
            "_model_name": "DescriptionStyleModel",
            "_view_count": null,
            "_view_module": "@jupyter-widgets/base",
            "_view_module_version": "1.2.0",
            "_view_name": "StyleView",
            "description_width": ""
          }
        },
        "7ae196bc221d4dbe980b6e4aa4fc0e87": {
          "model_module": "@jupyter-widgets/controls",
          "model_module_version": "1.5.0",
          "model_name": "HTMLModel",
          "state": {
            "_dom_classes": [],
            "_model_module": "@jupyter-widgets/controls",
            "_model_module_version": "1.5.0",
            "_model_name": "HTMLModel",
            "_view_count": null,
            "_view_module": "@jupyter-widgets/controls",
            "_view_module_version": "1.5.0",
            "_view_name": "HTMLView",
            "description": "",
            "description_tooltip": null,
            "layout": "IPY_MODEL_466b2d1999c64bfeb1e6b1aecc4f1d78",
            "placeholder": "​",
            "style": "IPY_MODEL_b40220685ca24e129d0f14a1df816566",
            "value": "tokenizer_config.json: 100%"
          }
        },
        "814d1d3a77824acaa966f50954c0bd28": {
          "model_module": "@jupyter-widgets/controls",
          "model_module_version": "1.5.0",
          "model_name": "FloatProgressModel",
          "state": {
            "_dom_classes": [],
            "_model_module": "@jupyter-widgets/controls",
            "_model_module_version": "1.5.0",
            "_model_name": "FloatProgressModel",
            "_view_count": null,
            "_view_module": "@jupyter-widgets/controls",
            "_view_module_version": "1.5.0",
            "_view_name": "ProgressView",
            "bar_style": "success",
            "description": "",
            "description_tooltip": null,
            "layout": "IPY_MODEL_e67519f9bd9d44d795d4626b16f1978c",
            "max": 15680,
            "min": 0,
            "orientation": "horizontal",
            "style": "IPY_MODEL_cc8e76f0e0124459b7d56bd702edbbc6",
            "value": 15680
          }
        },
        "849037a7d5be4f3687f23d87f1deb995": {
          "model_module": "@jupyter-widgets/controls",
          "model_module_version": "1.5.0",
          "model_name": "DescriptionStyleModel",
          "state": {
            "_model_module": "@jupyter-widgets/controls",
            "_model_module_version": "1.5.0",
            "_model_name": "DescriptionStyleModel",
            "_view_count": null,
            "_view_module": "@jupyter-widgets/base",
            "_view_module_version": "1.2.0",
            "_view_name": "StyleView",
            "description_width": ""
          }
        },
        "85ad75441e5f4416b135f038fd7896ad": {
          "model_module": "@jupyter-widgets/controls",
          "model_module_version": "1.5.0",
          "model_name": "HTMLModel",
          "state": {
            "_dom_classes": [],
            "_model_module": "@jupyter-widgets/controls",
            "_model_module_version": "1.5.0",
            "_model_name": "HTMLModel",
            "_view_count": null,
            "_view_module": "@jupyter-widgets/controls",
            "_view_module_version": "1.5.0",
            "_view_name": "HTMLView",
            "description": "",
            "description_tooltip": null,
            "layout": "IPY_MODEL_5e2959e6e356431fa3add21325fd2f09",
            "placeholder": "​",
            "style": "IPY_MODEL_461eb48f6e2246988d7166282150c9e5",
            "value": "model.safetensors: 100%"
          }
        },
        "879120876fcd4f2f9652b6e311b01841": {
          "model_module": "@jupyter-widgets/controls",
          "model_module_version": "1.5.0",
          "model_name": "DescriptionStyleModel",
          "state": {
            "_model_module": "@jupyter-widgets/controls",
            "_model_module_version": "1.5.0",
            "_model_name": "DescriptionStyleModel",
            "_view_count": null,
            "_view_module": "@jupyter-widgets/base",
            "_view_module_version": "1.2.0",
            "_view_name": "StyleView",
            "description_width": ""
          }
        },
        "8a71e82e4f92491e893d19350b14863c": {
          "model_module": "@jupyter-widgets/controls",
          "model_module_version": "1.5.0",
          "model_name": "HTMLModel",
          "state": {
            "_dom_classes": [],
            "_model_module": "@jupyter-widgets/controls",
            "_model_module_version": "1.5.0",
            "_model_name": "HTMLModel",
            "_view_count": null,
            "_view_module": "@jupyter-widgets/controls",
            "_view_module_version": "1.5.0",
            "_view_name": "HTMLView",
            "description": "",
            "description_tooltip": null,
            "layout": "IPY_MODEL_dc28a862321b41a0b58c4f21e3f39de4",
            "placeholder": "​",
            "style": "IPY_MODEL_7771530469d4439095fd4338a625dd52",
            "value": " 570/570 [00:00&lt;00:00, 66.8kB/s]"
          }
        },
        "8cd24577c60449b9985ed142fac0b1be": {
          "model_module": "@jupyter-widgets/controls",
          "model_module_version": "1.5.0",
          "model_name": "HBoxModel",
          "state": {
            "_dom_classes": [],
            "_model_module": "@jupyter-widgets/controls",
            "_model_module_version": "1.5.0",
            "_model_name": "HBoxModel",
            "_view_count": null,
            "_view_module": "@jupyter-widgets/controls",
            "_view_module_version": "1.5.0",
            "_view_name": "HBoxView",
            "box_style": "",
            "children": [
              "IPY_MODEL_22821ce9d0104e919857ce816cfee688",
              "IPY_MODEL_2a5f480dea404427b4b6faeb286457ee",
              "IPY_MODEL_60e7056a242344a796674f98ae48c7dc"
            ],
            "layout": "IPY_MODEL_d2df374533414c9aa97c908e901b8901"
          }
        },
        "8d70b4140b2c4472a6b67a707bc8a7db": {
          "model_module": "@jupyter-widgets/base",
          "model_module_version": "1.2.0",
          "model_name": "LayoutModel",
          "state": {
            "_model_module": "@jupyter-widgets/base",
            "_model_module_version": "1.2.0",
            "_model_name": "LayoutModel",
            "_view_count": null,
            "_view_module": "@jupyter-widgets/base",
            "_view_module_version": "1.2.0",
            "_view_name": "LayoutView",
            "align_content": null,
            "align_items": null,
            "align_self": null,
            "border": null,
            "bottom": null,
            "display": null,
            "flex": null,
            "flex_flow": null,
            "grid_area": null,
            "grid_auto_columns": null,
            "grid_auto_flow": null,
            "grid_auto_rows": null,
            "grid_column": null,
            "grid_gap": null,
            "grid_row": null,
            "grid_template_areas": null,
            "grid_template_columns": null,
            "grid_template_rows": null,
            "height": null,
            "justify_content": null,
            "justify_items": null,
            "left": null,
            "margin": null,
            "max_height": null,
            "max_width": null,
            "min_height": null,
            "min_width": null,
            "object_fit": null,
            "object_position": null,
            "order": null,
            "overflow": null,
            "overflow_x": null,
            "overflow_y": null,
            "padding": null,
            "right": null,
            "top": null,
            "visibility": null,
            "width": null
          }
        },
        "8eaa5b59618f4226a2f92b7714c37a18": {
          "model_module": "@jupyter-widgets/controls",
          "model_module_version": "1.5.0",
          "model_name": "DescriptionStyleModel",
          "state": {
            "_model_module": "@jupyter-widgets/controls",
            "_model_module_version": "1.5.0",
            "_model_name": "DescriptionStyleModel",
            "_view_count": null,
            "_view_module": "@jupyter-widgets/base",
            "_view_module_version": "1.2.0",
            "_view_name": "StyleView",
            "description_width": ""
          }
        },
        "8ed18f8176b44f31a4be5f2fba0ebf84": {
          "model_module": "@jupyter-widgets/base",
          "model_module_version": "1.2.0",
          "model_name": "LayoutModel",
          "state": {
            "_model_module": "@jupyter-widgets/base",
            "_model_module_version": "1.2.0",
            "_model_name": "LayoutModel",
            "_view_count": null,
            "_view_module": "@jupyter-widgets/base",
            "_view_module_version": "1.2.0",
            "_view_name": "LayoutView",
            "align_content": null,
            "align_items": null,
            "align_self": null,
            "border": null,
            "bottom": null,
            "display": null,
            "flex": null,
            "flex_flow": null,
            "grid_area": null,
            "grid_auto_columns": null,
            "grid_auto_flow": null,
            "grid_auto_rows": null,
            "grid_column": null,
            "grid_gap": null,
            "grid_row": null,
            "grid_template_areas": null,
            "grid_template_columns": null,
            "grid_template_rows": null,
            "height": null,
            "justify_content": null,
            "justify_items": null,
            "left": null,
            "margin": null,
            "max_height": null,
            "max_width": null,
            "min_height": null,
            "min_width": null,
            "object_fit": null,
            "object_position": null,
            "order": null,
            "overflow": null,
            "overflow_x": null,
            "overflow_y": null,
            "padding": null,
            "right": null,
            "top": null,
            "visibility": null,
            "width": null
          }
        },
        "927215a25fba44548a0d0b1187ec4fc4": {
          "model_module": "@jupyter-widgets/base",
          "model_module_version": "1.2.0",
          "model_name": "LayoutModel",
          "state": {
            "_model_module": "@jupyter-widgets/base",
            "_model_module_version": "1.2.0",
            "_model_name": "LayoutModel",
            "_view_count": null,
            "_view_module": "@jupyter-widgets/base",
            "_view_module_version": "1.2.0",
            "_view_name": "LayoutView",
            "align_content": null,
            "align_items": null,
            "align_self": null,
            "border": null,
            "bottom": null,
            "display": null,
            "flex": null,
            "flex_flow": null,
            "grid_area": null,
            "grid_auto_columns": null,
            "grid_auto_flow": null,
            "grid_auto_rows": null,
            "grid_column": null,
            "grid_gap": null,
            "grid_row": null,
            "grid_template_areas": null,
            "grid_template_columns": null,
            "grid_template_rows": null,
            "height": null,
            "justify_content": null,
            "justify_items": null,
            "left": null,
            "margin": null,
            "max_height": null,
            "max_width": null,
            "min_height": null,
            "min_width": null,
            "object_fit": null,
            "object_position": null,
            "order": null,
            "overflow": null,
            "overflow_x": null,
            "overflow_y": null,
            "padding": null,
            "right": null,
            "top": null,
            "visibility": null,
            "width": null
          }
        },
        "975e868fcb4746f0a04048c5707a7482": {
          "model_module": "@jupyter-widgets/controls",
          "model_module_version": "1.5.0",
          "model_name": "FloatProgressModel",
          "state": {
            "_dom_classes": [],
            "_model_module": "@jupyter-widgets/controls",
            "_model_module_version": "1.5.0",
            "_model_name": "FloatProgressModel",
            "_view_count": null,
            "_view_module": "@jupyter-widgets/controls",
            "_view_module_version": "1.5.0",
            "_view_name": "ProgressView",
            "bar_style": "success",
            "description": "",
            "description_tooltip": null,
            "layout": "IPY_MODEL_ac2b72df6d9441a5bdab3c12a2e1ccbb",
            "max": 435755784,
            "min": 0,
            "orientation": "horizontal",
            "style": "IPY_MODEL_3874a49922d44c5385a3d62549c3c8d1",
            "value": 435755784
          }
        },
        "9cdc3a1b788943a68f6ce0290b716f39": {
          "model_module": "@jupyter-widgets/controls",
          "model_module_version": "1.5.0",
          "model_name": "HTMLModel",
          "state": {
            "_dom_classes": [],
            "_model_module": "@jupyter-widgets/controls",
            "_model_module_version": "1.5.0",
            "_model_name": "HTMLModel",
            "_view_count": null,
            "_view_module": "@jupyter-widgets/controls",
            "_view_module_version": "1.5.0",
            "_view_name": "HTMLView",
            "description": "",
            "description_tooltip": null,
            "layout": "IPY_MODEL_8d70b4140b2c4472a6b67a707bc8a7db",
            "placeholder": "​",
            "style": "IPY_MODEL_8eaa5b59618f4226a2f92b7714c37a18",
            "value": " 12217/12217 [00:06&lt;00:00, 1741.38 examples/s]"
          }
        },
        "a9fdb201b143457e8f2c3bb97ac34de2": {
          "model_module": "@jupyter-widgets/base",
          "model_module_version": "1.2.0",
          "model_name": "LayoutModel",
          "state": {
            "_model_module": "@jupyter-widgets/base",
            "_model_module_version": "1.2.0",
            "_model_name": "LayoutModel",
            "_view_count": null,
            "_view_module": "@jupyter-widgets/base",
            "_view_module_version": "1.2.0",
            "_view_name": "LayoutView",
            "align_content": null,
            "align_items": null,
            "align_self": null,
            "border": null,
            "bottom": null,
            "display": null,
            "flex": null,
            "flex_flow": null,
            "grid_area": null,
            "grid_auto_columns": null,
            "grid_auto_flow": null,
            "grid_auto_rows": null,
            "grid_column": null,
            "grid_gap": null,
            "grid_row": null,
            "grid_template_areas": null,
            "grid_template_columns": null,
            "grid_template_rows": null,
            "height": null,
            "justify_content": null,
            "justify_items": null,
            "left": null,
            "margin": null,
            "max_height": null,
            "max_width": null,
            "min_height": null,
            "min_width": null,
            "object_fit": null,
            "object_position": null,
            "order": null,
            "overflow": null,
            "overflow_x": null,
            "overflow_y": null,
            "padding": null,
            "right": null,
            "top": null,
            "visibility": null,
            "width": null
          }
        },
        "aae4c6a83f1042bcaf4e84a8f083c501": {
          "model_module": "@jupyter-widgets/base",
          "model_module_version": "1.2.0",
          "model_name": "LayoutModel",
          "state": {
            "_model_module": "@jupyter-widgets/base",
            "_model_module_version": "1.2.0",
            "_model_name": "LayoutModel",
            "_view_count": null,
            "_view_module": "@jupyter-widgets/base",
            "_view_module_version": "1.2.0",
            "_view_name": "LayoutView",
            "align_content": null,
            "align_items": null,
            "align_self": null,
            "border": null,
            "bottom": null,
            "display": null,
            "flex": null,
            "flex_flow": null,
            "grid_area": null,
            "grid_auto_columns": null,
            "grid_auto_flow": null,
            "grid_auto_rows": null,
            "grid_column": null,
            "grid_gap": null,
            "grid_row": null,
            "grid_template_areas": null,
            "grid_template_columns": null,
            "grid_template_rows": null,
            "height": null,
            "justify_content": null,
            "justify_items": null,
            "left": null,
            "margin": null,
            "max_height": null,
            "max_width": null,
            "min_height": null,
            "min_width": null,
            "object_fit": null,
            "object_position": null,
            "order": null,
            "overflow": null,
            "overflow_x": null,
            "overflow_y": null,
            "padding": null,
            "right": null,
            "top": null,
            "visibility": null,
            "width": null
          }
        },
        "ac2b72df6d9441a5bdab3c12a2e1ccbb": {
          "model_module": "@jupyter-widgets/base",
          "model_module_version": "1.2.0",
          "model_name": "LayoutModel",
          "state": {
            "_model_module": "@jupyter-widgets/base",
            "_model_module_version": "1.2.0",
            "_model_name": "LayoutModel",
            "_view_count": null,
            "_view_module": "@jupyter-widgets/base",
            "_view_module_version": "1.2.0",
            "_view_name": "LayoutView",
            "align_content": null,
            "align_items": null,
            "align_self": null,
            "border": null,
            "bottom": null,
            "display": null,
            "flex": null,
            "flex_flow": null,
            "grid_area": null,
            "grid_auto_columns": null,
            "grid_auto_flow": null,
            "grid_auto_rows": null,
            "grid_column": null,
            "grid_gap": null,
            "grid_row": null,
            "grid_template_areas": null,
            "grid_template_columns": null,
            "grid_template_rows": null,
            "height": null,
            "justify_content": null,
            "justify_items": null,
            "left": null,
            "margin": null,
            "max_height": null,
            "max_width": null,
            "min_height": null,
            "min_width": null,
            "object_fit": null,
            "object_position": null,
            "order": null,
            "overflow": null,
            "overflow_x": null,
            "overflow_y": null,
            "padding": null,
            "right": null,
            "top": null,
            "visibility": null,
            "width": null
          }
        },
        "b02ea5a512c04040a44649cec22169aa": {
          "model_module": "@jupyter-widgets/controls",
          "model_module_version": "1.5.0",
          "model_name": "HTMLModel",
          "state": {
            "_dom_classes": [],
            "_model_module": "@jupyter-widgets/controls",
            "_model_module_version": "1.5.0",
            "_model_name": "HTMLModel",
            "_view_count": null,
            "_view_module": "@jupyter-widgets/controls",
            "_view_module_version": "1.5.0",
            "_view_name": "HTMLView",
            "description": "",
            "description_tooltip": null,
            "layout": "IPY_MODEL_1c57d85357294a0f995c669ef34249c8",
            "placeholder": "​",
            "style": "IPY_MODEL_f4a23820d27a428b9976c8942d6111bf",
            "value": "config.json: 100%"
          }
        },
        "b145d26ac5174881842a69ba534bf194": {
          "model_module": "@jupyter-widgets/controls",
          "model_module_version": "1.5.0",
          "model_name": "DescriptionStyleModel",
          "state": {
            "_model_module": "@jupyter-widgets/controls",
            "_model_module_version": "1.5.0",
            "_model_name": "DescriptionStyleModel",
            "_view_count": null,
            "_view_module": "@jupyter-widgets/base",
            "_view_module_version": "1.2.0",
            "_view_name": "StyleView",
            "description_width": ""
          }
        },
        "b1f1f4642f964d57af911d527f64c982": {
          "model_module": "@jupyter-widgets/controls",
          "model_module_version": "1.5.0",
          "model_name": "DescriptionStyleModel",
          "state": {
            "_model_module": "@jupyter-widgets/controls",
            "_model_module_version": "1.5.0",
            "_model_name": "DescriptionStyleModel",
            "_view_count": null,
            "_view_module": "@jupyter-widgets/base",
            "_view_module_version": "1.2.0",
            "_view_name": "StyleView",
            "description_width": ""
          }
        },
        "b2a237a084164a839e9fcf9bb4b455d0": {
          "model_module": "@jupyter-widgets/base",
          "model_module_version": "1.2.0",
          "model_name": "LayoutModel",
          "state": {
            "_model_module": "@jupyter-widgets/base",
            "_model_module_version": "1.2.0",
            "_model_name": "LayoutModel",
            "_view_count": null,
            "_view_module": "@jupyter-widgets/base",
            "_view_module_version": "1.2.0",
            "_view_name": "LayoutView",
            "align_content": null,
            "align_items": null,
            "align_self": null,
            "border": null,
            "bottom": null,
            "display": null,
            "flex": null,
            "flex_flow": null,
            "grid_area": null,
            "grid_auto_columns": null,
            "grid_auto_flow": null,
            "grid_auto_rows": null,
            "grid_column": null,
            "grid_gap": null,
            "grid_row": null,
            "grid_template_areas": null,
            "grid_template_columns": null,
            "grid_template_rows": null,
            "height": null,
            "justify_content": null,
            "justify_items": null,
            "left": null,
            "margin": null,
            "max_height": null,
            "max_width": null,
            "min_height": null,
            "min_width": null,
            "object_fit": null,
            "object_position": null,
            "order": null,
            "overflow": null,
            "overflow_x": null,
            "overflow_y": null,
            "padding": null,
            "right": null,
            "top": null,
            "visibility": null,
            "width": null
          }
        },
        "b40220685ca24e129d0f14a1df816566": {
          "model_module": "@jupyter-widgets/controls",
          "model_module_version": "1.5.0",
          "model_name": "DescriptionStyleModel",
          "state": {
            "_model_module": "@jupyter-widgets/controls",
            "_model_module_version": "1.5.0",
            "_model_name": "DescriptionStyleModel",
            "_view_count": null,
            "_view_module": "@jupyter-widgets/base",
            "_view_module_version": "1.2.0",
            "_view_name": "StyleView",
            "description_width": ""
          }
        },
        "b703a414c8f14d99a1b2a355a833daa1": {
          "model_module": "@jupyter-widgets/controls",
          "model_module_version": "1.5.0",
          "model_name": "HTMLModel",
          "state": {
            "_dom_classes": [],
            "_model_module": "@jupyter-widgets/controls",
            "_model_module_version": "1.5.0",
            "_model_name": "HTMLModel",
            "_view_count": null,
            "_view_module": "@jupyter-widgets/controls",
            "_view_module_version": "1.5.0",
            "_view_name": "HTMLView",
            "description": "",
            "description_tooltip": null,
            "layout": "IPY_MODEL_aae4c6a83f1042bcaf4e84a8f083c501",
            "placeholder": "​",
            "style": "IPY_MODEL_4d86fb49644a47f8a7d44f9b31f1a401",
            "value": "Map: 100%"
          }
        },
        "bdf46f13c6554a138b6e53e53de5557c": {
          "model_module": "@jupyter-widgets/controls",
          "model_module_version": "1.5.0",
          "model_name": "HBoxModel",
          "state": {
            "_dom_classes": [],
            "_model_module": "@jupyter-widgets/controls",
            "_model_module_version": "1.5.0",
            "_model_name": "HBoxModel",
            "_view_count": null,
            "_view_module": "@jupyter-widgets/controls",
            "_view_module_version": "1.5.0",
            "_view_name": "HBoxView",
            "box_style": "",
            "children": [
              "IPY_MODEL_85ad75441e5f4416b135f038fd7896ad",
              "IPY_MODEL_975e868fcb4746f0a04048c5707a7482",
              "IPY_MODEL_2ce26db841f446f6b569cc93716b18e8"
            ],
            "layout": "IPY_MODEL_65dab50fa35b4e678b7c338e6a079803"
          }
        },
        "c80e596982184240bcc5de4b33814701": {
          "model_module": "@jupyter-widgets/base",
          "model_module_version": "1.2.0",
          "model_name": "LayoutModel",
          "state": {
            "_model_module": "@jupyter-widgets/base",
            "_model_module_version": "1.2.0",
            "_model_name": "LayoutModel",
            "_view_count": null,
            "_view_module": "@jupyter-widgets/base",
            "_view_module_version": "1.2.0",
            "_view_name": "LayoutView",
            "align_content": null,
            "align_items": null,
            "align_self": null,
            "border": null,
            "bottom": null,
            "display": null,
            "flex": null,
            "flex_flow": null,
            "grid_area": null,
            "grid_auto_columns": null,
            "grid_auto_flow": null,
            "grid_auto_rows": null,
            "grid_column": null,
            "grid_gap": null,
            "grid_row": null,
            "grid_template_areas": null,
            "grid_template_columns": null,
            "grid_template_rows": null,
            "height": null,
            "justify_content": null,
            "justify_items": null,
            "left": null,
            "margin": null,
            "max_height": null,
            "max_width": null,
            "min_height": null,
            "min_width": null,
            "object_fit": null,
            "object_position": null,
            "order": null,
            "overflow": null,
            "overflow_x": null,
            "overflow_y": null,
            "padding": null,
            "right": null,
            "top": null,
            "visibility": null,
            "width": null
          }
        },
        "cb3c4d9fc6e142e9b3e2e07560f15599": {
          "model_module": "@jupyter-widgets/base",
          "model_module_version": "1.2.0",
          "model_name": "LayoutModel",
          "state": {
            "_model_module": "@jupyter-widgets/base",
            "_model_module_version": "1.2.0",
            "_model_name": "LayoutModel",
            "_view_count": null,
            "_view_module": "@jupyter-widgets/base",
            "_view_module_version": "1.2.0",
            "_view_name": "LayoutView",
            "align_content": null,
            "align_items": null,
            "align_self": null,
            "border": null,
            "bottom": null,
            "display": null,
            "flex": null,
            "flex_flow": null,
            "grid_area": null,
            "grid_auto_columns": null,
            "grid_auto_flow": null,
            "grid_auto_rows": null,
            "grid_column": null,
            "grid_gap": null,
            "grid_row": null,
            "grid_template_areas": null,
            "grid_template_columns": null,
            "grid_template_rows": null,
            "height": null,
            "justify_content": null,
            "justify_items": null,
            "left": null,
            "margin": null,
            "max_height": null,
            "max_width": null,
            "min_height": null,
            "min_width": null,
            "object_fit": null,
            "object_position": null,
            "order": null,
            "overflow": null,
            "overflow_x": null,
            "overflow_y": null,
            "padding": null,
            "right": null,
            "top": null,
            "visibility": null,
            "width": null
          }
        },
        "cc8e76f0e0124459b7d56bd702edbbc6": {
          "model_module": "@jupyter-widgets/controls",
          "model_module_version": "1.5.0",
          "model_name": "ProgressStyleModel",
          "state": {
            "_model_module": "@jupyter-widgets/controls",
            "_model_module_version": "1.5.0",
            "_model_name": "ProgressStyleModel",
            "_view_count": null,
            "_view_module": "@jupyter-widgets/base",
            "_view_module_version": "1.2.0",
            "_view_name": "StyleView",
            "bar_color": null,
            "description_width": ""
          }
        },
        "ce687cf9ed3e434390669514254cfba0": {
          "model_module": "@jupyter-widgets/controls",
          "model_module_version": "1.5.0",
          "model_name": "HBoxModel",
          "state": {
            "_dom_classes": [],
            "_model_module": "@jupyter-widgets/controls",
            "_model_module_version": "1.5.0",
            "_model_name": "HBoxModel",
            "_view_count": null,
            "_view_module": "@jupyter-widgets/controls",
            "_view_module_version": "1.5.0",
            "_view_name": "HBoxView",
            "box_style": "",
            "children": [
              "IPY_MODEL_d2e5ace97a5c4e2ba93e45bb01278d3c",
              "IPY_MODEL_46ae2614913b44668fd6acf68e7196c9",
              "IPY_MODEL_cf886baa12304275a45a179328d43d71"
            ],
            "layout": "IPY_MODEL_927215a25fba44548a0d0b1187ec4fc4"
          }
        },
        "cecb73e020114e17a4ac827aec352ad4": {
          "model_module": "@jupyter-widgets/controls",
          "model_module_version": "1.5.0",
          "model_name": "DescriptionStyleModel",
          "state": {
            "_model_module": "@jupyter-widgets/controls",
            "_model_module_version": "1.5.0",
            "_model_name": "DescriptionStyleModel",
            "_view_count": null,
            "_view_module": "@jupyter-widgets/base",
            "_view_module_version": "1.2.0",
            "_view_name": "StyleView",
            "description_width": ""
          }
        },
        "cf159a266bfa483ea24917b59eec5c53": {
          "model_module": "@jupyter-widgets/base",
          "model_module_version": "1.2.0",
          "model_name": "LayoutModel",
          "state": {
            "_model_module": "@jupyter-widgets/base",
            "_model_module_version": "1.2.0",
            "_model_name": "LayoutModel",
            "_view_count": null,
            "_view_module": "@jupyter-widgets/base",
            "_view_module_version": "1.2.0",
            "_view_name": "LayoutView",
            "align_content": null,
            "align_items": null,
            "align_self": null,
            "border": null,
            "bottom": null,
            "display": null,
            "flex": null,
            "flex_flow": null,
            "grid_area": null,
            "grid_auto_columns": null,
            "grid_auto_flow": null,
            "grid_auto_rows": null,
            "grid_column": null,
            "grid_gap": null,
            "grid_row": null,
            "grid_template_areas": null,
            "grid_template_columns": null,
            "grid_template_rows": null,
            "height": null,
            "justify_content": null,
            "justify_items": null,
            "left": null,
            "margin": null,
            "max_height": null,
            "max_width": null,
            "min_height": null,
            "min_width": null,
            "object_fit": null,
            "object_position": null,
            "order": null,
            "overflow": null,
            "overflow_x": null,
            "overflow_y": null,
            "padding": null,
            "right": null,
            "top": null,
            "visibility": null,
            "width": null
          }
        },
        "cf7d97ce25214c12808db6d9d466ee11": {
          "model_module": "@jupyter-widgets/controls",
          "model_module_version": "1.5.0",
          "model_name": "DescriptionStyleModel",
          "state": {
            "_model_module": "@jupyter-widgets/controls",
            "_model_module_version": "1.5.0",
            "_model_name": "DescriptionStyleModel",
            "_view_count": null,
            "_view_module": "@jupyter-widgets/base",
            "_view_module_version": "1.2.0",
            "_view_name": "StyleView",
            "description_width": ""
          }
        },
        "cf886baa12304275a45a179328d43d71": {
          "model_module": "@jupyter-widgets/controls",
          "model_module_version": "1.5.0",
          "model_name": "HTMLModel",
          "state": {
            "_dom_classes": [],
            "_model_module": "@jupyter-widgets/controls",
            "_model_module_version": "1.5.0",
            "_model_name": "HTMLModel",
            "_view_count": null,
            "_view_module": "@jupyter-widgets/controls",
            "_view_module_version": "1.5.0",
            "_view_name": "HTMLView",
            "description": "",
            "description_tooltip": null,
            "layout": "IPY_MODEL_d1f1d1aa17484bc988fe39a3635fe6eb",
            "placeholder": "​",
            "style": "IPY_MODEL_b145d26ac5174881842a69ba534bf194",
            "value": " 436k/436k [00:00&lt;00:00, 20.6MB/s]"
          }
        },
        "d1f1d1aa17484bc988fe39a3635fe6eb": {
          "model_module": "@jupyter-widgets/base",
          "model_module_version": "1.2.0",
          "model_name": "LayoutModel",
          "state": {
            "_model_module": "@jupyter-widgets/base",
            "_model_module_version": "1.2.0",
            "_model_name": "LayoutModel",
            "_view_count": null,
            "_view_module": "@jupyter-widgets/base",
            "_view_module_version": "1.2.0",
            "_view_name": "LayoutView",
            "align_content": null,
            "align_items": null,
            "align_self": null,
            "border": null,
            "bottom": null,
            "display": null,
            "flex": null,
            "flex_flow": null,
            "grid_area": null,
            "grid_auto_columns": null,
            "grid_auto_flow": null,
            "grid_auto_rows": null,
            "grid_column": null,
            "grid_gap": null,
            "grid_row": null,
            "grid_template_areas": null,
            "grid_template_columns": null,
            "grid_template_rows": null,
            "height": null,
            "justify_content": null,
            "justify_items": null,
            "left": null,
            "margin": null,
            "max_height": null,
            "max_width": null,
            "min_height": null,
            "min_width": null,
            "object_fit": null,
            "object_position": null,
            "order": null,
            "overflow": null,
            "overflow_x": null,
            "overflow_y": null,
            "padding": null,
            "right": null,
            "top": null,
            "visibility": null,
            "width": null
          }
        },
        "d2df374533414c9aa97c908e901b8901": {
          "model_module": "@jupyter-widgets/base",
          "model_module_version": "1.2.0",
          "model_name": "LayoutModel",
          "state": {
            "_model_module": "@jupyter-widgets/base",
            "_model_module_version": "1.2.0",
            "_model_name": "LayoutModel",
            "_view_count": null,
            "_view_module": "@jupyter-widgets/base",
            "_view_module_version": "1.2.0",
            "_view_name": "LayoutView",
            "align_content": null,
            "align_items": null,
            "align_self": null,
            "border": null,
            "bottom": null,
            "display": null,
            "flex": null,
            "flex_flow": null,
            "grid_area": null,
            "grid_auto_columns": null,
            "grid_auto_flow": null,
            "grid_auto_rows": null,
            "grid_column": null,
            "grid_gap": null,
            "grid_row": null,
            "grid_template_areas": null,
            "grid_template_columns": null,
            "grid_template_rows": null,
            "height": null,
            "justify_content": null,
            "justify_items": null,
            "left": null,
            "margin": null,
            "max_height": null,
            "max_width": null,
            "min_height": null,
            "min_width": null,
            "object_fit": null,
            "object_position": null,
            "order": null,
            "overflow": null,
            "overflow_x": null,
            "overflow_y": null,
            "padding": null,
            "right": null,
            "top": null,
            "visibility": null,
            "width": null
          }
        },
        "d2e5ace97a5c4e2ba93e45bb01278d3c": {
          "model_module": "@jupyter-widgets/controls",
          "model_module_version": "1.5.0",
          "model_name": "HTMLModel",
          "state": {
            "_dom_classes": [],
            "_model_module": "@jupyter-widgets/controls",
            "_model_module_version": "1.5.0",
            "_model_name": "HTMLModel",
            "_view_count": null,
            "_view_module": "@jupyter-widgets/controls",
            "_view_module_version": "1.5.0",
            "_view_name": "HTMLView",
            "description": "",
            "description_tooltip": null,
            "layout": "IPY_MODEL_6091d957417c4148b8662fa0e39a05b1",
            "placeholder": "​",
            "style": "IPY_MODEL_e89221e49b6445cebbe909c9c9681b60",
            "value": "tokenizer.json: 100%"
          }
        },
        "d38a18219a424a4abf1beebd05ff99fa": {
          "model_module": "@jupyter-widgets/controls",
          "model_module_version": "1.5.0",
          "model_name": "ProgressStyleModel",
          "state": {
            "_model_module": "@jupyter-widgets/controls",
            "_model_module_version": "1.5.0",
            "_model_name": "ProgressStyleModel",
            "_view_count": null,
            "_view_module": "@jupyter-widgets/base",
            "_view_module_version": "1.2.0",
            "_view_name": "StyleView",
            "bar_color": null,
            "description_width": ""
          }
        },
        "dc28a862321b41a0b58c4f21e3f39de4": {
          "model_module": "@jupyter-widgets/base",
          "model_module_version": "1.2.0",
          "model_name": "LayoutModel",
          "state": {
            "_model_module": "@jupyter-widgets/base",
            "_model_module_version": "1.2.0",
            "_model_name": "LayoutModel",
            "_view_count": null,
            "_view_module": "@jupyter-widgets/base",
            "_view_module_version": "1.2.0",
            "_view_name": "LayoutView",
            "align_content": null,
            "align_items": null,
            "align_self": null,
            "border": null,
            "bottom": null,
            "display": null,
            "flex": null,
            "flex_flow": null,
            "grid_area": null,
            "grid_auto_columns": null,
            "grid_auto_flow": null,
            "grid_auto_rows": null,
            "grid_column": null,
            "grid_gap": null,
            "grid_row": null,
            "grid_template_areas": null,
            "grid_template_columns": null,
            "grid_template_rows": null,
            "height": null,
            "justify_content": null,
            "justify_items": null,
            "left": null,
            "margin": null,
            "max_height": null,
            "max_width": null,
            "min_height": null,
            "min_width": null,
            "object_fit": null,
            "object_position": null,
            "order": null,
            "overflow": null,
            "overflow_x": null,
            "overflow_y": null,
            "padding": null,
            "right": null,
            "top": null,
            "visibility": null,
            "width": null
          }
        },
        "ddf182c2c1d7427db3ddc1d5745de02c": {
          "model_module": "@jupyter-widgets/controls",
          "model_module_version": "1.5.0",
          "model_name": "ProgressStyleModel",
          "state": {
            "_model_module": "@jupyter-widgets/controls",
            "_model_module_version": "1.5.0",
            "_model_name": "ProgressStyleModel",
            "_view_count": null,
            "_view_module": "@jupyter-widgets/base",
            "_view_module_version": "1.2.0",
            "_view_name": "StyleView",
            "bar_color": null,
            "description_width": ""
          }
        },
        "e4c87c63f22f41c09649f2b08fafded2": {
          "model_module": "@jupyter-widgets/controls",
          "model_module_version": "1.5.0",
          "model_name": "ProgressStyleModel",
          "state": {
            "_model_module": "@jupyter-widgets/controls",
            "_model_module_version": "1.5.0",
            "_model_name": "ProgressStyleModel",
            "_view_count": null,
            "_view_module": "@jupyter-widgets/base",
            "_view_module_version": "1.2.0",
            "_view_name": "StyleView",
            "bar_color": null,
            "description_width": ""
          }
        },
        "e67519f9bd9d44d795d4626b16f1978c": {
          "model_module": "@jupyter-widgets/base",
          "model_module_version": "1.2.0",
          "model_name": "LayoutModel",
          "state": {
            "_model_module": "@jupyter-widgets/base",
            "_model_module_version": "1.2.0",
            "_model_name": "LayoutModel",
            "_view_count": null,
            "_view_module": "@jupyter-widgets/base",
            "_view_module_version": "1.2.0",
            "_view_name": "LayoutView",
            "align_content": null,
            "align_items": null,
            "align_self": null,
            "border": null,
            "bottom": null,
            "display": null,
            "flex": null,
            "flex_flow": null,
            "grid_area": null,
            "grid_auto_columns": null,
            "grid_auto_flow": null,
            "grid_auto_rows": null,
            "grid_column": null,
            "grid_gap": null,
            "grid_row": null,
            "grid_template_areas": null,
            "grid_template_columns": null,
            "grid_template_rows": null,
            "height": null,
            "justify_content": null,
            "justify_items": null,
            "left": null,
            "margin": null,
            "max_height": null,
            "max_width": null,
            "min_height": null,
            "min_width": null,
            "object_fit": null,
            "object_position": null,
            "order": null,
            "overflow": null,
            "overflow_x": null,
            "overflow_y": null,
            "padding": null,
            "right": null,
            "top": null,
            "visibility": null,
            "width": null
          }
        },
        "e89221e49b6445cebbe909c9c9681b60": {
          "model_module": "@jupyter-widgets/controls",
          "model_module_version": "1.5.0",
          "model_name": "DescriptionStyleModel",
          "state": {
            "_model_module": "@jupyter-widgets/controls",
            "_model_module_version": "1.5.0",
            "_model_name": "DescriptionStyleModel",
            "_view_count": null,
            "_view_module": "@jupyter-widgets/base",
            "_view_module_version": "1.2.0",
            "_view_name": "StyleView",
            "description_width": ""
          }
        },
        "f19dfb69392a4a959b3b38c148afc759": {
          "model_module": "@jupyter-widgets/controls",
          "model_module_version": "1.5.0",
          "model_name": "DescriptionStyleModel",
          "state": {
            "_model_module": "@jupyter-widgets/controls",
            "_model_module_version": "1.5.0",
            "_model_name": "DescriptionStyleModel",
            "_view_count": null,
            "_view_module": "@jupyter-widgets/base",
            "_view_module_version": "1.2.0",
            "_view_name": "StyleView",
            "description_width": ""
          }
        },
        "f4a23820d27a428b9976c8942d6111bf": {
          "model_module": "@jupyter-widgets/controls",
          "model_module_version": "1.5.0",
          "model_name": "DescriptionStyleModel",
          "state": {
            "_model_module": "@jupyter-widgets/controls",
            "_model_module_version": "1.5.0",
            "_model_name": "DescriptionStyleModel",
            "_view_count": null,
            "_view_module": "@jupyter-widgets/base",
            "_view_module_version": "1.2.0",
            "_view_name": "StyleView",
            "description_width": ""
          }
        },
        "fac8acd418264ec982134c7ba96d60a6": {
          "model_module": "@jupyter-widgets/controls",
          "model_module_version": "1.5.0",
          "model_name": "ProgressStyleModel",
          "state": {
            "_model_module": "@jupyter-widgets/controls",
            "_model_module_version": "1.5.0",
            "_model_name": "ProgressStyleModel",
            "_view_count": null,
            "_view_module": "@jupyter-widgets/base",
            "_view_module_version": "1.2.0",
            "_view_name": "StyleView",
            "bar_color": null,
            "description_width": ""
          }
        }
      }
    }
  },
  "nbformat": 4,
  "nbformat_minor": 5
}
